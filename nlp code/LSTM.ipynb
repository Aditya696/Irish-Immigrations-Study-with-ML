{
 "cells": [
  {
   "cell_type": "code",
   "execution_count": 8,
   "id": "f93e9a84",
   "metadata": {},
   "outputs": [
    {
     "name": "stderr",
     "output_type": "stream",
     "text": [
      "[nltk_data] Downloading package stopwords to\n",
      "[nltk_data]     C:\\Users\\babyj\\AppData\\Roaming\\nltk_data...\n",
      "[nltk_data]   Package stopwords is already up-to-date!\n",
      "[nltk_data] Downloading package averaged_perceptron_tagger to\n",
      "[nltk_data]     C:\\Users\\babyj\\AppData\\Roaming\\nltk_data...\n",
      "[nltk_data]   Package averaged_perceptron_tagger is already up-to-\n",
      "[nltk_data]       date!\n",
      "[nltk_data] Downloading package wordnet to\n",
      "[nltk_data]     C:\\Users\\babyj\\AppData\\Roaming\\nltk_data...\n",
      "[nltk_data]   Package wordnet is already up-to-date!\n"
     ]
    },
    {
     "data": {
      "text/plain": [
       "True"
      ]
     },
     "execution_count": 8,
     "metadata": {},
     "output_type": "execute_result"
    }
   ],
   "source": [
    "import nltk\n",
    "from nltk.corpus import stopwords\n",
    "from nltk.tokenize import word_tokenize\n",
    "import nltk.classify.util as util\n",
    "import itertools\n",
    "import pickle\n",
    "from nltk.probability import FreqDist\n",
    "import os.path\n",
    "from statistics import mode\n",
    "from nltk.classify import ClassifierI\n",
    "from nltk.stem import PorterStemmer, WordNetLemmatizer\n",
    "from nltk.corpus import wordnet\n",
    "from nltk import pos_tag\n",
    "from nltk.probability import FreqDist\n",
    "import numpy as np\n",
    "import re\n",
    "import math\n",
    "import pandas as pd\n",
    "import csv\n",
    "from tensorflow.keras.models import Sequential\n",
    "from tensorflow.keras.layers import Embedding, Conv1D, Dense, Dropout, Flatten, LSTM\n",
    "from tensorflow.keras.callbacks import EarlyStopping\n",
    "from sklearn.model_selection import train_test_split\n",
    "\n",
    "nltk.download('stopwords')\n",
    "nltk.download('averaged_perceptron_tagger')\n",
    "nltk.download('wordnet')\n"
   ]
  },
  {
   "cell_type": "code",
   "execution_count": 9,
   "id": "21494d11",
   "metadata": {},
   "outputs": [],
   "source": [
    "emoji_dict = {}\n",
    "with open('emoji.txt', 'r', encoding='latin-1') as emoji_file:\n",
    "    for line in emoji_file:\n",
    "        line = line.strip()\n",
    "        if line:\n",
    "            emoji, value = line.split('\\t')\n",
    "            emoji_dict[emoji] = int(value)"
   ]
  },
  {
   "cell_type": "code",
   "execution_count": 10,
   "id": "91106086",
   "metadata": {},
   "outputs": [],
   "source": [
    "def replace_emojis(text, emoji_dict):\n",
    "    for emoji, value in emoji_dict.items():\n",
    "        if value == 1:\n",
    "            text = re.sub(re.escape(emoji), 'happy', text)\n",
    "        elif value == -1:\n",
    "            text = re.sub(re.escape(emoji), 'sad', text)\n",
    "    return text"
   ]
  },
  {
   "cell_type": "code",
   "execution_count": 11,
   "id": "f1ac01d9",
   "metadata": {},
   "outputs": [],
   "source": [
    "#vincent\n",
    "def get_wordnet_pos(treebank_tag):\n",
    "    if treebank_tag.startswith('J'):\n",
    "        return wordnet.ADJ\n",
    "    elif treebank_tag.startswith('V'):\n",
    "        return wordnet.VERB\n",
    "    elif treebank_tag.startswith('N'):\n",
    "        return wordnet.NOUN\n",
    "    elif treebank_tag.startswith('R'):\n",
    "        return wordnet.ADV\n",
    "    else:\n",
    "        return None\n",
    "    \n",
    "def preprocess_text(text):\n",
    "    # Convert to lowercase\n",
    "    text = text.lower()\n",
    "    \n",
    "    # Remove special characters\n",
    "    text = re.sub(r\"[^a-zA-Z0-9\\s]\", \"\", text)\n",
    "\n",
    "    # Tokenize the words\n",
    "    words = word_tokenize(text)\n",
    "    \n",
    "    # Apply stemming\n",
    "    stemmer = PorterStemmer()\n",
    "    words = [stemmer.stem(word) for word in words]\n",
    "\n",
    "    # Apply lemmatization\n",
    "    lemmatizer = WordNetLemmatizer()\n",
    "    tagged = pos_tag(words)\n",
    "    words = [lemmatizer.lemmatize(word, pos=get_wordnet_pos(pos)) if get_wordnet_pos(pos) else word for word, pos in tagged]\n",
    "\n",
    "    # Remove stopwords\n",
    "    stop_words = set(stopwords.words('english'))\n",
    "    filtered_words = [word for word in words if word not in stop_words]\n",
    "    \n",
    "    return ' '.join(filtered_words)\n",
    "\n",
    "hatefulCorpus=[]\n",
    "nHatefulCorpus=[]\n",
    "neutralCorpus=[]\n",
    "with open(\"firstIter.csv\", \"r\", encoding=\"utf-8\") as file:\n",
    "    reader = csv.DictReader(file)\n",
    "    for row in reader:\n",
    "        if not all(value == \"\" for value in row.values()):\n",
    "            text = row[\"Comment Text\"]\n",
    "            newText = text.strip()\n",
    "            newText = replace_emojis(newText, emoji_dict)\n",
    "            newText = preprocess_text(newText)\n",
    "            label = row[\"Label\"]\n",
    "            if label=='Neutral':\n",
    "                neutralCorpus.append(newText)\n",
    "            elif label=='Hateful':\n",
    "                hatefulCorpus.append(newText)\n",
    "            else:\n",
    "                nHatefulCorpus.append(newText)\n"
   ]
  },
  {
   "cell_type": "code",
   "execution_count": 12,
   "id": "aa1c54d4",
   "metadata": {},
   "outputs": [
    {
     "data": {
      "text/plain": [
       "1547"
      ]
     },
     "execution_count": 12,
     "metadata": {},
     "output_type": "execute_result"
    }
   ],
   "source": [
    "all_texts = hatefulCorpus + nHatefulCorpus + neutralCorpus\n",
    "# Create frequency distribution\n",
    "word_freq = FreqDist()\n",
    "\n",
    "for text in all_texts:\n",
    "    words = text.split()\n",
    "    word_freq.update(words)\n",
    "known_words = {word for word, freq in word_freq.items() if freq > 3}\n",
    "len(known_words)"
   ]
  },
  {
   "cell_type": "code",
   "execution_count": 13,
   "id": "7414aedb",
   "metadata": {},
   "outputs": [],
   "source": [
    "total_words = 0\n",
    "num_comments = len(all_texts)\n",
    "\n",
    "for comment in all_texts:\n",
    "    total_words += len(comment.split())\n",
    "\n",
    "average_words = total_words / num_comments\n",
    "\n",
    "variance = 0\n",
    "for comment in all_texts:\n",
    "    num_words = len(comment.split())\n",
    "    variance += (num_words - average_words) ** 2\n",
    "\n",
    "std_deviation = math.sqrt(variance / num_comments)\n",
    "M = round(average_words + std_deviation)\n",
    "\n",
    "def comment_to_vector(comment, known_words, M):\n",
    "    words = comment.split()\n",
    "    vector = []\n",
    "    for i in range(M):\n",
    "        if i < len(words):\n",
    "            word = words[i]\n",
    "            if word in known_words:\n",
    "                vector.append(known_words.index(word) + 1)\n",
    "            else:\n",
    "                vector.append(0)\n",
    "        else:\n",
    "            vector.append(0)\n",
    "    return vector\n",
    "\n",
    "# Convert preprocessed comments to vector representation\n",
    "hateful_comment_vectors = []\n",
    "for comment in hatefulCorpus:\n",
    "    vector = comment_to_vector(comment, list(known_words), M)\n",
    "    hateful_comment_vectors.append(vector)\n",
    "    \n",
    "\n",
    "nHateful_comment_vectors = []\n",
    "for comment in nHatefulCorpus:\n",
    "    vector = comment_to_vector(comment, list(known_words), M)\n",
    "    nHateful_comment_vectors.append(vector)\n",
    "    \n",
    "neutral_comment_vectors = []\n",
    "for comment in neutralCorpus:\n",
    "    vector = comment_to_vector(comment, list(known_words), M)\n",
    "    neutral_comment_vectors.append(vector)"
   ]
  },
  {
   "cell_type": "code",
   "execution_count": 16,
   "id": "f1944998",
   "metadata": {},
   "outputs": [
    {
     "name": "stdout",
     "output_type": "stream",
     "text": [
      "Epoch 1/20\n",
      "63/63 [==============================] - 6s 40ms/step - loss: 0.7755 - accuracy: 0.7677 - val_loss: 0.5826 - val_accuracy: 0.8091\n",
      "Epoch 2/20\n",
      "63/63 [==============================] - 2s 28ms/step - loss: 0.6815 - accuracy: 0.7781 - val_loss: 0.6125 - val_accuracy: 0.8091\n",
      "Epoch 3/20\n",
      "63/63 [==============================] - 2s 29ms/step - loss: 0.6698 - accuracy: 0.7806 - val_loss: 0.5869 - val_accuracy: 0.8091\n",
      "Epoch 4/20\n",
      "63/63 [==============================] - 2s 30ms/step - loss: 0.6607 - accuracy: 0.7806 - val_loss: 0.6061 - val_accuracy: 0.8091\n"
     ]
    },
    {
     "name": "stderr",
     "output_type": "stream",
     "text": [
      "WARNING:absl:Found untraced functions such as _update_step_xla, lstm_cell_4_layer_call_fn, lstm_cell_4_layer_call_and_return_conditional_losses, lstm_cell_5_layer_call_fn, lstm_cell_5_layer_call_and_return_conditional_losses while saving (showing 5 of 5). These functions will not be directly callable after loading.\n"
     ]
    },
    {
     "name": "stdout",
     "output_type": "stream",
     "text": [
      "INFO:tensorflow:Assets written to: savedModels/LSTM_Model\\assets\n"
     ]
    },
    {
     "name": "stderr",
     "output_type": "stream",
     "text": [
      "INFO:tensorflow:Assets written to: savedModels/LSTM_Model\\assets\n"
     ]
    }
   ],
   "source": [
    "from tensorflow.keras.layers import Dense\n",
    "from tensorflow.keras.utils import to_categorical\n",
    "hateful_comment_vectors = np.array(hateful_comment_vectors)\n",
    "nHateful_comment_vectors = np.array(nHateful_comment_vectors)\n",
    "neutral_comment_vectors = np.array(neutral_comment_vectors)\n",
    "\n",
    "all_comment_vectors = np.concatenate((hateful_comment_vectors, nHateful_comment_vectors, neutral_comment_vectors))\n",
    "\n",
    "hateful_labels = np.ones(len(hatefulCorpus))\n",
    "nHateful_labels = np.zeros(len(nHatefulCorpus))\n",
    "neutral_labels = np.full(len(neutralCorpus), 2)\n",
    "\n",
    "all_labels = np.concatenate((hateful_labels, nHateful_labels, neutral_labels))\n",
    "\n",
    "num_classes = 3\n",
    "\n",
    "X_train, X_test, y_train, y_test = train_test_split(all_comment_vectors, all_labels, test_size=0.2, random_state=42)\n",
    "y_train_one_hot = to_categorical(y_train, num_classes)\n",
    "y_test_one_hot = to_categorical(y_test, num_classes)\n",
    "\n",
    "embedding_dim = 40\n",
    "\n",
    "# Define the model\n",
    "model = Sequential()\n",
    "model.add(Embedding(input_dim=len(known_words) + 1, output_dim=embedding_dim, input_length=M))\n",
    "model.add(LSTM(units=32, return_sequences=True))  # LSTM layer with 32 units and return_sequences=True\n",
    "model.add(Dropout(0.5))  # Dropout layer for regularization\n",
    "model.add(LSTM(units=64))  # LSTM layer with 64 units\n",
    "model.add(Dropout(0.5))  # Dropout layer for regularization\n",
    "model.add(Dense(units=50, activation='relu'))\n",
    "model.add(Dropout(0.5))  # Dropout layer for regularization\n",
    "model.add(Dense(units=num_classes, activation='softmax'))\n",
    "\n",
    "# Compile the model\n",
    "model.compile(loss='categorical_crossentropy', optimizer='adam', metrics=['accuracy'])\n",
    "\n",
    "# Add early stopping\n",
    "early_stopping = EarlyStopping(monitor='val_loss', patience=3)\n",
    "\n",
    "# Train the model\n",
    "model.fit(X_train, y_train_one_hot, epochs=20, batch_size=32, validation_data=(X_test, y_test_one_hot), callbacks=[early_stopping])\n",
    "\n",
    "model.save('savedModels/LSTM_Model')"
   ]
  },
  {
   "cell_type": "code",
   "execution_count": 17,
   "id": "e4bb5dbb",
   "metadata": {},
   "outputs": [
    {
     "name": "stdout",
     "output_type": "stream",
     "text": [
      "1/1 [==============================] - 1s 1s/step\n",
      "hateful\n"
     ]
    }
   ],
   "source": [
    "import tensorflow as tf\n",
    "import keras\n",
    "testData = \"All immigrants should be deported to where they came from.\"\n",
    "testData = testData.strip()\n",
    "testData = replace_emojis(testData, emoji_dict)\n",
    "testData = preprocess_text(testData)\n",
    "testDataVector = comment_to_vector(testData, list(known_words), 40)\n",
    "testDataVector = np.array(testDataVector)\n",
    "testDataVector = np.expand_dims(testDataVector, axis=0)\n",
    "loadedModel = tf.keras.models.load_model('savedModels/LSTM_Model')\n",
    "predicted_probabilities = loadedModel.predict(testDataVector)\n",
    "predicted_class = np.argmax(predicted_probabilities)\n",
    "class_labels = ['hateful', 'non-hateful', 'neutral']\n",
    "print(class_labels[predicted_class])"
   ]
  },
  {
   "cell_type": "code",
   "execution_count": null,
   "id": "120a02eb",
   "metadata": {},
   "outputs": [],
   "source": []
  }
 ],
 "metadata": {
  "kernelspec": {
   "display_name": "Python 3 (ipykernel)",
   "language": "python",
   "name": "python3"
  },
  "language_info": {
   "codemirror_mode": {
    "name": "ipython",
    "version": 3
   },
   "file_extension": ".py",
   "mimetype": "text/x-python",
   "name": "python",
   "nbconvert_exporter": "python",
   "pygments_lexer": "ipython3",
   "version": "3.10.6"
  }
 },
 "nbformat": 4,
 "nbformat_minor": 5
}
