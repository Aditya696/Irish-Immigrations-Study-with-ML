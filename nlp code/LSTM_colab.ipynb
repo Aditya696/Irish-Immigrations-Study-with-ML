{
  "cells": [
    {
      "cell_type": "code",
      "execution_count": 1,
      "metadata": {
        "colab": {
          "base_uri": "https://localhost:8080/"
        },
        "id": "PDkNqBsOIu-G",
        "outputId": "541ba431-e225-4f51-dd58-14d2e532c323"
      },
      "outputs": [
        {
          "output_type": "stream",
          "name": "stdout",
          "text": [
            "Drive already mounted at /content/drive/; to attempt to forcibly remount, call drive.mount(\"/content/drive/\", force_remount=True).\n"
          ]
        }
      ],
      "source": [
        "from google.colab import drive\n",
        "drive.mount('/content/drive/')"
      ],
      "id": "PDkNqBsOIu-G"
    },
    {
      "cell_type": "code",
      "source": [
        "%cd drive/MyDrive/colab_final_project/"
      ],
      "metadata": {
        "colab": {
          "base_uri": "https://localhost:8080/"
        },
        "id": "qQXqJKxKObRJ",
        "outputId": "8a4cc440-ed78-4403-cfe1-09ecea6eacd4"
      },
      "id": "qQXqJKxKObRJ",
      "execution_count": 2,
      "outputs": [
        {
          "output_type": "stream",
          "name": "stdout",
          "text": [
            "/content/drive/MyDrive/colab_final_project\n"
          ]
        }
      ]
    },
    {
      "cell_type": "code",
      "execution_count": null,
      "metadata": {
        "colab": {
          "base_uri": "https://localhost:8080/"
        },
        "id": "GXiFjNS8I0RT",
        "outputId": "0e714a38-f470-4628-8a2b-149c69bc7c95"
      },
      "outputs": [
        {
          "output_type": "stream",
          "name": "stdout",
          "text": [
            "Traceback (most recent call last):\n",
            "  File \"/usr/local/bin/pip3\", line 8, in <module>\n",
            "    sys.exit(main())\n",
            "  File \"/usr/local/lib/python3.10/dist-packages/pip/_internal/cli/main.py\", line 77, in main\n",
            "  File \"/usr/local/lib/python3.10/dist-packages/pip/_internal/commands/__init__.py\", line 114, in create_command\n",
            "    module = importlib.import_module(module_path)\n",
            "  File \"/usr/lib/python3.10/importlib/__init__.py\", line 126, in import_module\n",
            "    return _bootstrap._gcd_import(name[level:], package, level)\n",
            "  File \"<frozen importlib._bootstrap>\", line 1050, in _gcd_import\n",
            "  File \"<frozen importlib._bootstrap>\", line 1027, in _find_and_load\n",
            "  File \"<frozen importlib._bootstrap>\", line 1006, in _find_and_load_unlocked\n",
            "  File \"<frozen importlib._bootstrap>\", line 688, in _load_unlocked\n",
            "  File \"<frozen importlib._bootstrap_external>\", line 883, in exec_module\n",
            "  File \"<frozen importlib._bootstrap>\", line 241, in _call_with_frames_removed\n",
            "  File \"/usr/local/lib/python3.10/dist-packages/pip/_internal/commands/install.py\", line 15, in <module>\n",
            "    from pip._internal.cli.req_command import (\n",
            "  File \"/usr/local/lib/python3.10/dist-packages/pip/_internal/cli/req_command.py\", line 20, in <module>\n",
            "    from pip._internal.index.collector import LinkCollector\n",
            "  File \"/usr/local/lib/python3.10/dist-packages/pip/_internal/index/collector.py\", line 37, in <module>\n",
            "    from pip._internal.network.session import PipSession\n",
            "  File \"/usr/local/lib/python3.10/dist-packages/pip/_internal/network/session.py\", line 32, in <module>\n",
            "    from pip._vendor.cachecontrol import CacheControlAdapter as _BaseCacheControlAdapter\n",
            "  File \"/usr/local/lib/python3.10/dist-packages/pip/_vendor/cachecontrol/__init__.py\", line 13, in <module>\n",
            "    from .wrapper import CacheControl\n",
            "  File \"/usr/local/lib/python3.10/dist-packages/pip/_vendor/cachecontrol/wrapper.py\", line 5, in <module>\n",
            "    from .adapter import CacheControlAdapter\n",
            "  File \"/usr/local/lib/python3.10/dist-packages/pip/_vendor/cachecontrol/adapter.py\", line 11, in <module>\n",
            "    from .controller import CacheController, PERMANENT_REDIRECT_STATUSES\n",
            "  File \"/usr/local/lib/python3.10/dist-packages/pip/_vendor/cachecontrol/controller.py\", line 17, in <module>\n",
            "    from .serialize import Serializer\n",
            "  File \"/usr/local/lib/python3.10/dist-packages/pip/_vendor/cachecontrol/serialize.py\", line 10, in <module>\n",
            "    from pip._vendor import msgpack\n",
            "  File \"/usr/local/lib/python3.10/dist-packages/pip/_vendor/msgpack/__init__.py\", line 17, in <module>\n",
            "    from ._cmsgpack import Packer, unpackb, Unpacker\n",
            "  File \"<frozen importlib._bootstrap>\", line 1027, in _find_and_load\n",
            "  File \"<frozen importlib._bootstrap>\", line 1002, in _find_and_load_unlocked\n",
            "  File \"<frozen importlib._bootstrap>\", line 945, in _find_spec\n",
            "  File \"<frozen importlib._bootstrap_external>\", line 1439, in find_spec\n",
            "  File \"<frozen importlib._bootstrap_external>\", line 1408, in _get_spec\n",
            "KeyboardInterrupt\n",
            "^C\n",
            "Requirement already satisfied: protobuf==3.20.3 in /usr/local/lib/python3.10/dist-packages (3.20.3)\n",
            "\u001b[31mERROR: Operation cancelled by user\u001b[0m\u001b[31m\n",
            "\u001b[0m^C\n",
            "Requirement already satisfied: nltk==3.7 in /usr/local/lib/python3.10/dist-packages (3.7)\n",
            "Requirement already satisfied: click in /usr/local/lib/python3.10/dist-packages (from nltk==3.7) (8.1.4)\n",
            "Requirement already satisfied: joblib in /usr/local/lib/python3.10/dist-packages (from nltk==3.7) (1.3.1)\n",
            "Requirement already satisfied: regex>=2021.8.3 in /usr/local/lib/python3.10/dist-packages (from nltk==3.7) (2022.10.31)\n",
            "Requirement already satisfied: tqdm in /usr/local/lib/python3.10/dist-packages (from nltk==3.7) (4.65.0)\n",
            "\u001b[31mERROR: Operation cancelled by user\u001b[0m\u001b[31m\n",
            "\u001b[0mRequirement already satisfied: numpy==1.23.3 in /usr/local/lib/python3.10/dist-packages (1.23.3)\n"
          ]
        }
      ],
      "source": [
        "!pip install tensorflow==2.13.0\n",
        "!pip install protobuf==3.20.3\n",
        "!pip install nltk==3.7\n",
        "!pip install numpy==1.23.3\n",
        "!pip install langdetect==1.0.9\n",
        "!pip install pymongo\n",
        "!pip install emoji\n",
        "!pip install mysql-connector-python==8.0.33\n",
        "!pip install scikeras"
      ],
      "id": "GXiFjNS8I0RT"
    },
    {
      "cell_type": "code",
      "execution_count": 3,
      "metadata": {
        "colab": {
          "base_uri": "https://localhost:8080/"
        },
        "id": "f93e9a84",
        "outputId": "7394f4a3-2486-4d99-8244-8ea102044fc6"
      },
      "outputs": [
        {
          "output_type": "stream",
          "name": "stderr",
          "text": [
            "[nltk_data] Downloading package punkt to /root/nltk_data...\n",
            "[nltk_data]   Package punkt is already up-to-date!\n",
            "[nltk_data] Downloading package stopwords to /root/nltk_data...\n",
            "[nltk_data]   Package stopwords is already up-to-date!\n",
            "[nltk_data] Downloading package averaged_perceptron_tagger to\n",
            "[nltk_data]     /root/nltk_data...\n",
            "[nltk_data]   Package averaged_perceptron_tagger is already up-to-\n",
            "[nltk_data]       date!\n",
            "[nltk_data] Downloading package wordnet to /root/nltk_data...\n",
            "[nltk_data]   Package wordnet is already up-to-date!\n",
            "[nltk_data] Downloading package punkt to /root/nltk_data...\n",
            "[nltk_data]   Package punkt is already up-to-date!\n",
            "[nltk_data] Downloading package omw-1.4 to /root/nltk_data...\n",
            "[nltk_data]   Package omw-1.4 is already up-to-date!\n"
          ]
        },
        {
          "output_type": "execute_result",
          "data": {
            "text/plain": [
              "True"
            ]
          },
          "metadata": {},
          "execution_count": 3
        }
      ],
      "source": [
        "import nltk\n",
        "from nltk.corpus import stopwords\n",
        "from nltk.tokenize import word_tokenize\n",
        "import nltk.classify.util as util\n",
        "import itertools\n",
        "import pickle\n",
        "from nltk.probability import FreqDist\n",
        "import os.path\n",
        "from statistics import mode\n",
        "from nltk.classify import ClassifierI\n",
        "from nltk.stem import PorterStemmer, WordNetLemmatizer\n",
        "from nltk.corpus import wordnet\n",
        "from nltk import pos_tag\n",
        "from nltk.probability import FreqDist\n",
        "import numpy as np\n",
        "import re\n",
        "import math\n",
        "import pandas as pd\n",
        "import csv\n",
        "from tensorflow.keras.models import Sequential\n",
        "from tensorflow.keras.layers import Embedding, Conv1D, Dense, Dropout, Flatten, LSTM\n",
        "from tensorflow.keras.callbacks import EarlyStopping\n",
        "from sklearn.model_selection import train_test_split\n",
        "nltk.download('punkt')\n",
        "nltk.download('stopwords')\n",
        "nltk.download('averaged_perceptron_tagger')\n",
        "nltk.download('wordnet')\n",
        "nltk.download('punkt')\n",
        "nltk.download('omw-1.4')"
      ],
      "id": "f93e9a84"
    },
    {
      "cell_type": "code",
      "execution_count": 15,
      "metadata": {
        "id": "21494d11"
      },
      "outputs": [],
      "source": [
        "emoji_dict = {}\n",
        "with open('emoji.txt', 'r', encoding='latin-1') as emoji_file:\n",
        "  for line in emoji_file:\n",
        "    line = line.strip()\n",
        "    if line:\n",
        "      emoji, value = line.split('\\t')\n",
        "      emoji_dict[emoji] = int(value)"
      ],
      "id": "21494d11"
    },
    {
      "cell_type": "code",
      "execution_count": 16,
      "metadata": {
        "id": "91106086"
      },
      "outputs": [],
      "source": [
        "def replace_emojis(text, emoji_dict):\n",
        "  for emoji, value in emoji_dict.items():\n",
        "    if value == 1:\n",
        "      text = re.sub(re.escape(emoji), 'happy', text)\n",
        "    elif value == -1:\n",
        "      text = re.sub(re.escape(emoji), 'sad', text)\n",
        "  return text"
      ],
      "id": "91106086"
    },
    {
      "cell_type": "code",
      "execution_count": 17,
      "metadata": {
        "id": "f1ac01d9"
      },
      "outputs": [],
      "source": [
        "#vincent\n",
        "def get_wordnet_pos(treebank_tag):\n",
        "  if treebank_tag.startswith('J'):\n",
        "    return wordnet.ADJ\n",
        "  elif treebank_tag.startswith('V'):\n",
        "    return wordnet.VERB\n",
        "  elif treebank_tag.startswith('N'):\n",
        "    return wordnet.NOUN\n",
        "  elif treebank_tag.startswith('R'):\n",
        "    return wordnet.ADV\n",
        "  else:\n",
        "    return None\n",
        "\n",
        "def preprocess_text(text):\n",
        "    text = text.lower()\n",
        "    text = re.sub(r\"[^a-zA-Z0-9\\s]\", \"\", text)\n",
        "    words = word_tokenize(text)\n",
        "    stemmer = PorterStemmer()\n",
        "    words = [stemmer.stem(word) for word in words]\n",
        "    lemmatizer = WordNetLemmatizer()\n",
        "    tagged = pos_tag(words)\n",
        "    words = [lemmatizer.lemmatize(word, pos=get_wordnet_pos(pos)) if get_wordnet_pos(pos) else word for word, pos in tagged]\n",
        "    stop_words = set(stopwords.words('english'))\n",
        "    filtered_words = [word for word in words if word not in stop_words]\n",
        "    return ' '.join(filtered_words)\n",
        "\n",
        "hatefulCorpus=[]\n",
        "nHatefulCorpus=[]\n",
        "neutralCorpus=[]\n",
        "with open(\"firstIter.csv\", \"r\", encoding=\"utf-8\") as file:\n",
        "  reader=csv.DictReader(file)\n",
        "  i=0\n",
        "  for row in reader:\n",
        "    if not all(value == \"\" for value in row.values()):\n",
        "      text = row[\"Comment Text\"]\n",
        "      if text == \"\":\n",
        "        continue\n",
        "      label = row[\"Label\"]\n",
        "      if label == \"\":\n",
        "        continue\n",
        "      newText = text.strip()\n",
        "      newText = replace_emojis(newText, emoji_dict)\n",
        "      newText = preprocess_text(newText)\n",
        "      if label=='Neutral':\n",
        "        neutralCorpus.append(newText)\n",
        "      elif label=='Hateful':\n",
        "        hatefulCorpus.append(newText)\n",
        "      else:\n",
        "        nHatefulCorpus.append(newText)"
      ],
      "id": "f1ac01d9"
    },
    {
      "cell_type": "code",
      "execution_count": 8,
      "metadata": {
        "colab": {
          "base_uri": "https://localhost:8080/"
        },
        "id": "XV33Xp0jKm6z",
        "outputId": "c9b5fcfb-ab6e-4477-caf1-653553bd525f"
      },
      "outputs": [
        {
          "output_type": "stream",
          "name": "stdout",
          "text": [
            "neutral = 297 nhateful = 287 hateful = 272\n"
          ]
        }
      ],
      "source": [
        "hatefulCorpus = hatefulCorpus[:272]\n",
        "print(\"neutral = \"+str(len(neutralCorpus))+\" nhateful = \"+str(len(nHatefulCorpus))+\" hateful = \"+str(len(hatefulCorpus)))"
      ],
      "id": "XV33Xp0jKm6z"
    },
    {
      "cell_type": "code",
      "execution_count": 12,
      "metadata": {
        "id": "BuECBLafLlbf",
        "colab": {
          "base_uri": "https://localhost:8080/"
        },
        "outputId": "f8beb49d-00a6-48d7-cdd4-73fe432312b2"
      },
      "outputs": [
        {
          "output_type": "stream",
          "name": "stdout",
          "text": [
            "Epoch 1/20\n",
            "22/22 [==============================] - 10s 144ms/step - loss: 1.0987 - accuracy: 0.3509 - val_loss: 1.0896 - val_accuracy: 0.3488\n",
            "Epoch 2/20\n",
            "22/22 [==============================] - 2s 95ms/step - loss: 1.0916 - accuracy: 0.3947 - val_loss: 1.0821 - val_accuracy: 0.4535\n",
            "Epoch 3/20\n",
            "22/22 [==============================] - 2s 112ms/step - loss: 1.0876 - accuracy: 0.4079 - val_loss: 1.0672 - val_accuracy: 0.4128\n",
            "Epoch 4/20\n",
            "22/22 [==============================] - 3s 133ms/step - loss: 1.0769 - accuracy: 0.4064 - val_loss: 1.0568 - val_accuracy: 0.4593\n",
            "Epoch 5/20\n",
            "22/22 [==============================] - 4s 159ms/step - loss: 1.0680 - accuracy: 0.4342 - val_loss: 1.0386 - val_accuracy: 0.4651\n",
            "Epoch 6/20\n",
            "22/22 [==============================] - 4s 160ms/step - loss: 1.0464 - accuracy: 0.4503 - val_loss: 1.0258 - val_accuracy: 0.4767\n",
            "Epoch 7/20\n",
            "22/22 [==============================] - 3s 114ms/step - loss: 1.0339 - accuracy: 0.4591 - val_loss: 1.0060 - val_accuracy: 0.5116\n",
            "Epoch 8/20\n",
            "22/22 [==============================] - 2s 102ms/step - loss: 1.0012 - accuracy: 0.4766 - val_loss: 1.0144 - val_accuracy: 0.4884\n",
            "Epoch 9/20\n",
            "22/22 [==============================] - 2s 95ms/step - loss: 0.9817 - accuracy: 0.5102 - val_loss: 1.0279 - val_accuracy: 0.5058\n",
            "Epoch 10/20\n",
            "22/22 [==============================] - 2s 97ms/step - loss: 0.9917 - accuracy: 0.5102 - val_loss: 1.0012 - val_accuracy: 0.5233\n",
            "Epoch 11/20\n",
            "22/22 [==============================] - 2s 96ms/step - loss: 0.9461 - accuracy: 0.5439 - val_loss: 0.9924 - val_accuracy: 0.5465\n",
            "Epoch 12/20\n",
            "22/22 [==============================] - 4s 190ms/step - loss: 0.9013 - accuracy: 0.6038 - val_loss: 1.0526 - val_accuracy: 0.4942\n",
            "Epoch 13/20\n",
            "22/22 [==============================] - 4s 177ms/step - loss: 0.8732 - accuracy: 0.5877 - val_loss: 1.0781 - val_accuracy: 0.5581\n",
            "Epoch 14/20\n",
            "22/22 [==============================] - 3s 131ms/step - loss: 0.8673 - accuracy: 0.5921 - val_loss: 1.1251 - val_accuracy: 0.5233\n"
          ]
        }
      ],
      "source": [
        "from keras.preprocessing.sequence import pad_sequences\n",
        "from keras.preprocessing.text import Tokenizer\n",
        "from keras.models import Sequential\n",
        "from keras.layers import Embedding, LSTM, Dropout, Dense\n",
        "from keras.utils import to_categorical\n",
        "from sklearn.model_selection import train_test_split\n",
        "from tensorflow.keras.callbacks import EarlyStopping\n",
        "import numpy as np\n",
        "import pickle\n",
        "\n",
        "MAX_NB_WORDS = 20000\n",
        "MAX_SEQUENCE_LENGTH = 100\n",
        "training_corpus=hatefulCorpus + nHatefulCorpus + neutralCorpus\n",
        "embeddings_index = {}\n",
        "\n",
        "# Load the tokenizer\n",
        "with open('embedding_models/glove.6B.100d.txt', 'r', encoding='utf-8') as f:\n",
        "    for line in f:\n",
        "        values = line.split()\n",
        "        word = values[0]\n",
        "        coefs = np.asarray(values[1:], dtype='float32')\n",
        "        embeddings_index[word] = coefs\n",
        "\n",
        "tokenizer = Tokenizer(num_words=MAX_NB_WORDS)\n",
        "tokenizer.fit_on_texts(training_corpus)\n",
        "word_index = tokenizer.word_index\n",
        "\n",
        "X = tokenizer.texts_to_sequences(training_corpus)\n",
        "X = pad_sequences(X, maxlen=MAX_SEQUENCE_LENGTH)\n",
        "\n",
        "y = np.array([0] * len(hatefulCorpus) + [1] * len(nHatefulCorpus) + [2] * len(neutralCorpus))\n",
        "y = to_categorical(y, num_classes=3)\n",
        "size = len(word_index)\n",
        "embedding_matrix = np.zeros((size + 1, 100))\n",
        "for word, i in word_index.items():\n",
        "    embedding_vector = embeddings_index.get(word)\n",
        "    if embedding_vector is not None:\n",
        "        embedding_matrix[i] = embedding_vector\n",
        "\n",
        "X_train, X_val, y_train, y_val = train_test_split(X, y, test_size=0.2, random_state=42)\n",
        "\n",
        "# Define the model\n",
        "model = Sequential()\n",
        "model.add(Embedding(input_dim=len(word_index) + 1, output_dim=100, weights=[embedding_matrix],\n",
        "                    input_length=MAX_SEQUENCE_LENGTH, trainable=False))\n",
        "model.add(LSTM(units=32, return_sequences=True))\n",
        "model.add(Dropout(0.5))\n",
        "model.add(LSTM(units=64))\n",
        "model.add(Dropout(0.5))\n",
        "model.add(Dense(units=50, activation='relu'))\n",
        "model.add(Dropout(0.5))\n",
        "model.add(Dense(units=3, activation='softmax'))\n",
        "\n",
        "# Compile the model\n",
        "model.compile(loss='categorical_crossentropy', optimizer='adam', metrics=['accuracy'])\n",
        "\n",
        "# Add early stopping\n",
        "early_stopping = EarlyStopping(monitor='val_loss', patience=3)\n",
        "\n",
        "# Train the model\n",
        "model.fit(X_train, y_train, epochs=20, batch_size=32, validation_data=(X_val, y_val), callbacks=[early_stopping])\n",
        "\n",
        "model.save('savedModels/LSTM_Model')\n"
      ],
      "id": "BuECBLafLlbf"
    },
    {
      "cell_type": "code",
      "execution_count": 14,
      "metadata": {
        "id": "f1944998",
        "outputId": "ce729697-e5d5-41d2-a058-4e149ab24241",
        "colab": {
          "base_uri": "https://localhost:8080/"
        }
      },
      "outputs": [
        {
          "output_type": "stream",
          "name": "stdout",
          "text": [
            "6/6 [==============================] - 0s 36ms/step\n",
            "              precision    recall  f1-score   support\n",
            "\n",
            "           0       0.51      0.65      0.57        52\n",
            "           1       0.52      0.57      0.54        58\n",
            "           2       0.56      0.37      0.45        62\n",
            "\n",
            "    accuracy                           0.52       172\n",
            "   macro avg       0.53      0.53      0.52       172\n",
            "weighted avg       0.53      0.52      0.52       172\n",
            "\n"
          ]
        }
      ],
      "source": [
        "from sklearn.metrics import classification_report\n",
        "y_pred = model.predict(X_val)\n",
        "y_pred_classes = np.argmax(y_pred, axis=1)\n",
        "y_true = np.argmax(y_val, axis=1)\n",
        "report = classification_report(y_true, y_pred_classes)\n",
        "print(report)"
      ],
      "id": "f1944998"
    },
    {
      "cell_type": "code",
      "execution_count": 18,
      "metadata": {
        "id": "e4bb5dbb"
      },
      "outputs": [],
      "source": [
        "import random\n",
        "\n",
        "num_texts = 50  # Number of texts to fetch\n",
        "testCorpus = []\n",
        "\n",
        "with open(\"firstIter.csv\", \"r\", encoding=\"utf-8\") as file:\n",
        "    reader = csv.DictReader(file)\n",
        "    texts = [row[\"Comment Text\"] for row in reader if row[\"Comment Text\"]]\n",
        "    random.shuffle(texts)\n",
        "    for text in texts:\n",
        "      newText = text.strip()\n",
        "      newText = replace_emojis(newText, emoji_dict)\n",
        "      newText = preprocess_text(newText)\n",
        "      testCorpus.append(newText)\n",
        "      if len(testCorpus) == num_texts:\n",
        "        break"
      ],
      "id": "e4bb5dbb"
    },
    {
      "cell_type": "code",
      "source": [
        "print(len(testCorpus))"
      ],
      "metadata": {
        "colab": {
          "base_uri": "https://localhost:8080/"
        },
        "id": "EvWaUVOOYfSv",
        "outputId": "4e7ca1f4-11ea-4397-ff8a-220aa7240531"
      },
      "id": "EvWaUVOOYfSv",
      "execution_count": 19,
      "outputs": [
        {
          "output_type": "stream",
          "name": "stdout",
          "text": [
            "50\n"
          ]
        }
      ]
    },
    {
      "cell_type": "code",
      "execution_count": 20,
      "metadata": {
        "id": "120a02eb"
      },
      "outputs": [],
      "source": [
        "# Converting to wordEmbeddings\n",
        "# Load the tokenizer from the saved file\n",
        "import tensorflow as tf\n",
        "MAX_SEQUENCE_LENGTH = 100\n",
        "with open('tokenizer.pickle', 'rb') as handle:\n",
        "    tokenizer = pickle.load(handle)\n",
        "input_sequences = tokenizer.texts_to_sequences(testCorpus)\n",
        "padded_sequences = tf.keras.preprocessing.sequence.pad_sequences(input_sequences, maxlen=MAX_SEQUENCE_LENGTH)"
      ],
      "id": "120a02eb"
    },
    {
      "cell_type": "code",
      "source": [
        "import matplotlib.pyplot as plt\n",
        "MAX_SEQUENCE_LENGTH = 100\n",
        "class_labels = ['Hateful', 'Non-Hateful', 'Neutral']\n",
        "print(len(testCorpus))\n",
        "\n",
        "# Load the model\n",
        "loaded_model = tf.keras.models.load_model('savedModels/LSTM_Model')\n",
        "\n",
        "# Make predictions on the padded sequences\n",
        "predictions = loaded_model.predict(padded_sequences)\n",
        "predicted_classes = np.argmax(predictions, axis=1)\n",
        "\n",
        "# Count the predictions for each class\n",
        "prediction_summary = {label: 0 for label in class_labels}\n",
        "for predicted_class in predicted_classes:\n",
        "    predicted_label = class_labels[predicted_class]\n",
        "    prediction_summary[predicted_label] += 1\n",
        "\n",
        "print(prediction_summary)\n",
        "# Prepare data for bar chart\n",
        "labels = list(prediction_summary.keys())\n",
        "values = list(prediction_summary.values())\n",
        "\n",
        "# Plot the bar chart\n",
        "plt.bar(labels, values)\n",
        "plt.xlabel('Predicted Class')\n",
        "plt.ylabel('Count')\n",
        "plt.title('Prediction Summary')\n",
        "for i, v in enumerate(values):\n",
        "    plt.text(i, v, str(v), ha='center', va='bottom')\n",
        "plt.show()"
      ],
      "metadata": {
        "colab": {
          "base_uri": "https://localhost:8080/",
          "height": 524
        },
        "id": "AwbFzDwpX1vQ",
        "outputId": "2205cf50-2eeb-49f9-c910-86f33ff2558a"
      },
      "id": "AwbFzDwpX1vQ",
      "execution_count": 22,
      "outputs": [
        {
          "output_type": "stream",
          "name": "stdout",
          "text": [
            "50\n",
            "2/2 [==============================] - 1s 28ms/step\n",
            "{'Hateful': 17, 'Non-Hateful': 20, 'Neutral': 13}\n"
          ]
        },
        {
          "output_type": "display_data",
          "data": {
            "text/plain": [
              "<Figure size 640x480 with 1 Axes>"
            ],
            "image/png": "[encoded data removed]"
          },
          "metadata": {}
        }
      ]
    }
  ],
  "metadata": {
    "colab": {
      "provenance": []
    },
    "kernelspec": {
      "display_name": "Python 3 (ipykernel)",
      "language": "python",
      "name": "python3"
    },
    "language_info": {
      "codemirror_mode": {
        "name": "ipython",
        "version": 3
      },
      "file_extension": ".py",
      "mimetype": "text/x-python",
      "name": "python",
      "nbconvert_exporter": "python",
      "pygments_lexer": "ipython3",
      "version": "3.10.6"
    }
  },
  "nbformat": 4,
  "nbformat_minor": 5
}