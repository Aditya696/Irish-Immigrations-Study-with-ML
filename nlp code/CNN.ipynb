{
 "cells": [
  {
   "cell_type": "code",
   "execution_count": 1,
   "id": "f93e9a84",
   "metadata": {},
   "outputs": [
    {
     "name": "stderr",
     "output_type": "stream",
     "text": [
      "[nltk_data] Downloading package stopwords to\n",
      "[nltk_data]     C:\\Users\\babyj\\AppData\\Roaming\\nltk_data...\n",
      "[nltk_data]   Package stopwords is already up-to-date!\n",
      "[nltk_data] Downloading package averaged_perceptron_tagger to\n",
      "[nltk_data]     C:\\Users\\babyj\\AppData\\Roaming\\nltk_data...\n",
      "[nltk_data]   Package averaged_perceptron_tagger is already up-to-\n",
      "[nltk_data]       date!\n",
      "[nltk_data] Downloading package wordnet to\n",
      "[nltk_data]     C:\\Users\\babyj\\AppData\\Roaming\\nltk_data...\n",
      "[nltk_data]   Package wordnet is already up-to-date!\n"
     ]
    },
    {
     "data": {
      "text/plain": [
       "True"
      ]
     },
     "execution_count": 1,
     "metadata": {},
     "output_type": "execute_result"
    }
   ],
   "source": [
    "import nltk\n",
    "from nltk.corpus import stopwords\n",
    "from nltk.tokenize import word_tokenize\n",
    "import nltk.classify.util as util\n",
    "import itertools\n",
    "import pickle\n",
    "from nltk.probability import FreqDist\n",
    "import os.path\n",
    "from statistics import mode\n",
    "from nltk.classify import ClassifierI\n",
    "from nltk.stem import PorterStemmer, WordNetLemmatizer\n",
    "from nltk.corpus import wordnet\n",
    "from nltk import pos_tag\n",
    "from nltk.probability import FreqDist\n",
    "import numpy as np\n",
    "import re\n",
    "import math\n",
    "import pandas as pd\n",
    "import csv\n",
    "from tensorflow.keras.models import Sequential\n",
    "from tensorflow.keras.layers import Embedding, Conv1D, Dense, Dropout, Flatten\n",
    "from tensorflow.keras.callbacks import EarlyStopping\n",
    "from sklearn.model_selection import train_test_split\n",
    "\n",
    "nltk.download('stopwords')\n",
    "nltk.download('averaged_perceptron_tagger')\n",
    "nltk.download('wordnet')\n"
   ]
  },
  {
   "cell_type": "code",
   "execution_count": 2,
   "id": "21494d11",
   "metadata": {},
   "outputs": [],
   "source": [
    "emoji_dict = {}\n",
    "with open('emoji.txt', 'r', encoding='latin-1') as emoji_file:\n",
    "    for line in emoji_file:\n",
    "        line = line.strip()\n",
    "        if line:\n",
    "            emoji, value = line.split('\\t')\n",
    "            emoji_dict[emoji] = int(value)"
   ]
  },
  {
   "cell_type": "code",
   "execution_count": 3,
   "id": "91106086",
   "metadata": {},
   "outputs": [],
   "source": [
    "def replace_emojis(text, emoji_dict):\n",
    "    for emoji, value in emoji_dict.items():\n",
    "        if value == 1:\n",
    "            text = re.sub(re.escape(emoji), 'happy', text)\n",
    "        elif value == -1:\n",
    "            text = re.sub(re.escape(emoji), 'sad', text)\n",
    "    return text"
   ]
  },
  {
   "cell_type": "code",
   "execution_count": 4,
   "id": "f1ac01d9",
   "metadata": {},
   "outputs": [],
   "source": [
    "#vincent\n",
    "def get_wordnet_pos(treebank_tag):\n",
    "    if treebank_tag.startswith('J'):\n",
    "        return wordnet.ADJ\n",
    "    elif treebank_tag.startswith('V'):\n",
    "        return wordnet.VERB\n",
    "    elif treebank_tag.startswith('N'):\n",
    "        return wordnet.NOUN\n",
    "    elif treebank_tag.startswith('R'):\n",
    "        return wordnet.ADV\n",
    "    else:\n",
    "        return None\n",
    "    \n",
    "def preprocess_text(text):\n",
    "    # Convert to lowercase\n",
    "    text = text.lower()\n",
    "    \n",
    "    # Remove special characters\n",
    "    text = re.sub(r\"[^a-zA-Z0-9\\s]\", \"\", text)\n",
    "\n",
    "    # Tokenize the words\n",
    "    words = word_tokenize(text)\n",
    "    \n",
    "    # Apply stemming\n",
    "    stemmer = PorterStemmer()\n",
    "    words = [stemmer.stem(word) for word in words]\n",
    "\n",
    "    # Apply lemmatization\n",
    "    lemmatizer = WordNetLemmatizer()\n",
    "    tagged = pos_tag(words)\n",
    "    words = [lemmatizer.lemmatize(word, pos=get_wordnet_pos(pos)) if get_wordnet_pos(pos) else word for word, pos in tagged]\n",
    "\n",
    "    # Remove stopwords\n",
    "    stop_words = set(stopwords.words('english'))\n",
    "    filtered_words = [word for word in words if word not in stop_words]\n",
    "    \n",
    "    return ' '.join(filtered_words)\n",
    "\n",
    "hatefulCorpus=[]\n",
    "nHatefulCorpus=[]\n",
    "neutralCorpus=[]\n",
    "with open(\"firstIter.csv\", \"r\", encoding=\"utf-8\") as file:\n",
    "    reader = csv.DictReader(file)\n",
    "    for row in reader:\n",
    "        if not all(value == \"\" for value in row.values()):\n",
    "            text = row[\"Comment Text\"]\n",
    "            newText = text.strip()\n",
    "            newText = replace_emojis(newText, emoji_dict)\n",
    "            newText = preprocess_text(newText)\n",
    "            label = row[\"Label\"]\n",
    "            if label=='Neutral':\n",
    "                neutralCorpus.append(newText)\n",
    "            elif label=='Hateful':\n",
    "                hatefulCorpus.append(newText)\n",
    "            else:\n",
    "                nHatefulCorpus.append(newText)"
   ]
  },
  {
   "cell_type": "code",
   "execution_count": 5,
   "id": "aa1c54d4",
   "metadata": {},
   "outputs": [
    {
     "data": {
      "text/plain": [
       "1547"
      ]
     },
     "execution_count": 5,
     "metadata": {},
     "output_type": "execute_result"
    }
   ],
   "source": [
    "all_texts = hatefulCorpus + nHatefulCorpus + neutralCorpus\n",
    "# Create frequency distribution\n",
    "word_freq = FreqDist()\n",
    "\n",
    "for text in all_texts:\n",
    "    words = text.split()\n",
    "    word_freq.update(words)\n",
    "known_words = {word for word, freq in word_freq.items() if freq > 3}\n",
    "len(known_words)"
   ]
  },
  {
   "cell_type": "code",
   "execution_count": 6,
   "id": "7414aedb",
   "metadata": {},
   "outputs": [],
   "source": [
    "total_words = 0\n",
    "num_comments = len(all_texts)\n",
    "\n",
    "for comment in all_texts:\n",
    "    total_words += len(comment.split())\n",
    "\n",
    "average_words = total_words / num_comments\n",
    "\n",
    "variance = 0\n",
    "for comment in all_texts:\n",
    "    num_words = len(comment.split())\n",
    "    variance += (num_words - average_words) ** 2\n",
    "\n",
    "std_deviation = math.sqrt(variance / num_comments)\n",
    "M = round(average_words + std_deviation)\n",
    "\n",
    "def comment_to_vector(comment, known_words, M):\n",
    "    words = comment.split()\n",
    "    vector = []\n",
    "    for i in range(M):\n",
    "        if i < len(words):\n",
    "            word = words[i]\n",
    "            if word in known_words:\n",
    "                vector.append(known_words.index(word) + 1)\n",
    "            else:\n",
    "                vector.append(0)\n",
    "        else:\n",
    "            vector.append(0)\n",
    "    return vector\n",
    "\n",
    "# Convert preprocessed comments to vector representation\n",
    "hateful_comment_vectors = []\n",
    "for comment in hatefulCorpus:\n",
    "    vector = comment_to_vector(comment, list(known_words), M)\n",
    "    hateful_comment_vectors.append(vector)\n",
    "    \n",
    "\n",
    "nHateful_comment_vectors = []\n",
    "for comment in nHatefulCorpus:\n",
    "    vector = comment_to_vector(comment, list(known_words), M)\n",
    "    nHateful_comment_vectors.append(vector)\n",
    "    \n",
    "neutral_comment_vectors = []\n",
    "for comment in neutralCorpus:\n",
    "    vector = comment_to_vector(comment, list(known_words), M)\n",
    "    neutral_comment_vectors.append(vector)"
   ]
  },
  {
   "cell_type": "code",
   "execution_count": 7,
   "id": "f1944998",
   "metadata": {},
   "outputs": [
    {
     "name": "stdout",
     "output_type": "stream",
     "text": [
      "Epoch 1/20\n",
      "63/63 [==============================] - 3s 26ms/step - loss: 0.6340 - accuracy: 0.7398 - val_loss: 0.5316 - val_accuracy: 0.8091\n",
      "Epoch 2/20\n",
      "63/63 [==============================] - 1s 22ms/step - loss: 0.5714 - accuracy: 0.7801 - val_loss: 0.5448 - val_accuracy: 0.8091\n",
      "Epoch 3/20\n",
      "63/63 [==============================] - 1s 22ms/step - loss: 0.5524 - accuracy: 0.7781 - val_loss: 0.5153 - val_accuracy: 0.8091\n",
      "Epoch 4/20\n",
      "63/63 [==============================] - 1s 24ms/step - loss: 0.5069 - accuracy: 0.7761 - val_loss: 0.5155 - val_accuracy: 0.8072\n",
      "Epoch 5/20\n",
      "63/63 [==============================] - 1s 22ms/step - loss: 0.4536 - accuracy: 0.7915 - val_loss: 0.6090 - val_accuracy: 0.8032\n",
      "Epoch 6/20\n",
      "63/63 [==============================] - 1s 22ms/step - loss: 0.3731 - accuracy: 0.8179 - val_loss: 1.0394 - val_accuracy: 0.7376\n"
     ]
    },
    {
     "data": {
      "text/plain": [
       "<keras.callbacks.History at 0x18c5fc294b0>"
      ]
     },
     "execution_count": 7,
     "metadata": {},
     "output_type": "execute_result"
    }
   ],
   "source": [
    "hateful_comment_vectors = np.array(hateful_comment_vectors)\n",
    "nHateful_comment_vectors = np.array(nHateful_comment_vectors)\n",
    "neutral_comment_vectors = np.array(neutral_comment_vectors)\n",
    "\n",
    "all_comment_vectors = np.concatenate((hateful_comment_vectors, nHateful_comment_vectors, neutral_comment_vectors))\n",
    "\n",
    "hateful_labels = np.ones(len(hatefulCorpus))\n",
    "nHateful_labels = np.zeros(len(nHatefulCorpus))\n",
    "neutral_labels = np.full(len(neutralCorpus), 2)\n",
    "\n",
    "all_labels = np.concatenate((hateful_labels, nHateful_labels, neutral_labels))\n",
    "\n",
    "X_train, X_test, y_train, y_test = train_test_split(all_comment_vectors, all_labels, test_size=0.2, random_state=42)\n",
    "\n",
    "embedding_dim = 300\n",
    "\n",
    "\n",
    "model = Sequential()\n",
    "model.add(Embedding(input_dim=len(known_words) + 1, output_dim=embedding_dim, input_length=M))\n",
    "model.add(Conv1D(filters=32, kernel_size=3, activation='relu'))\n",
    "model.add(Dropout(0.5)) # Dropout layer for regularization\n",
    "model.add(Conv1D(filters=64, kernel_size=3, activation='relu'))\n",
    "model.add(Dropout(0.5)) # Dropout layer for regularization\n",
    "model.add(Dense(units=50, activation='relu'))\n",
    "model.add(Dropout(0.5)) # Dropout layer for regularization\n",
    "model.add(Flatten())\n",
    "model.add(Dense(units=1, activation='tanh'))\n",
    "\n",
    "model.compile(loss='binary_crossentropy', optimizer='adam', metrics=['accuracy'])\n",
    "\n",
    "early_stopping = EarlyStopping(monitor='val_loss', patience=3)\n",
    "\n",
    "model.fit(X_train, y_train, epochs=20, batch_size=32, validation_data=(X_test, y_test), callbacks=[early_stopping])"
   ]
  }
 ],
 "metadata": {
  "kernelspec": {
   "display_name": "Python 3 (ipykernel)",
   "language": "python",
   "name": "python3"
  },
  "language_info": {
   "codemirror_mode": {
    "name": "ipython",
    "version": 3
   },
   "file_extension": ".py",
   "mimetype": "text/x-python",
   "name": "python",
   "nbconvert_exporter": "python",
   "pygments_lexer": "ipython3",
   "version": "3.10.6"
  }
 },
 "nbformat": 4,
 "nbformat_minor": 5
}
