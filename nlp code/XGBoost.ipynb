{
 "cells": [
  {
   "cell_type": "code",
   "execution_count": 1,
   "id": "73798475",
   "metadata": {},
   "outputs": [],
   "source": [
    "import nltk\n",
    "from nltk.corpus import stopwords\n",
    "from nltk.tokenize import word_tokenize\n",
    "import nltk.classify.util as util\n",
    "import itertools\n",
    "import pickle\n",
    "import csv\n",
    "import re\n",
    "from sklearn.model_selection import train_test_split\n",
    "from sklearn.metrics import accuracy_score\n",
    "from gensim.models import KeyedVectors\n",
    "import xgboost as xgb\n",
    "import numpy as np\n",
    "from sklearn.feature_extraction.text import TfidfVectorizer\n",
    "from sklearn.metrics import classification_report, accuracy_score\n",
    "import os.path\n",
    "from statistics import mode"
   ]
  },
  {
   "cell_type": "code",
   "execution_count": 2,
   "id": "9a692413",
   "metadata": {},
   "outputs": [],
   "source": [
    "emoji_dict = {}\n",
    "with open('emoji.txt', 'r', encoding='latin-1') as emoji_file:\n",
    "    for line in emoji_file:\n",
    "        line = line.strip()\n",
    "        if line:\n",
    "            emoji, value = line.split('\\t')\n",
    "            emoji_dict[emoji] = int(value)"
   ]
  },
  {
   "cell_type": "code",
   "execution_count": 3,
   "id": "ee0f3a9e",
   "metadata": {},
   "outputs": [],
   "source": [
    "def replace_emojis(text, emoji_dict):\n",
    "    for emoji, value in emoji_dict.items():\n",
    "        if value == 1:\n",
    "            text = re.sub(re.escape(emoji), 'happy', text)\n",
    "        elif value == -1:\n",
    "            text = re.sub(re.escape(emoji), 'sad', text)\n",
    "    return text\n",
    "\n",
    "\n",
    "def preprocess_text(text):\n",
    "    # Remove special characters\n",
    "    text = re.sub(r\"[^a-zA-Z0-9\\s]\", \"\", text)\n",
    "\n",
    "    # Convert to lowercase\n",
    "    text = text.lower()\n",
    "\n",
    "    # Remove stopwords\n",
    "    stop_words = set(stopwords.words('english'))\n",
    "    words = word_tokenize(text)\n",
    "    filtered_words = [word for word in words if word.lower() not in stop_words]\n",
    "    text = ' '.join(filtered_words)\n",
    "\n",
    "    return text\n"
   ]
  },
  {
   "cell_type": "code",
   "execution_count": 4,
   "id": "9ac4c3d7",
   "metadata": {},
   "outputs": [],
   "source": [
    "hatefulCorpus=[]\n",
    "nHatefulCorpus=[]\n",
    "neutralCorpus=[]\n",
    "with open(\"firstIter.csv\", \"r\", encoding=\"utf-8\") as file:\n",
    "    reader = csv.DictReader(file)\n",
    "    for row in reader:\n",
    "        if not all(value == \"\" for value in row.values()):\n",
    "            text = row[\"Comment Text\"]\n",
    "            newText = text.strip()\n",
    "            newText = replace_emojis(newText, emoji_dict)\n",
    "            newText = preprocess_text(newText)\n",
    "            label = row[\"Label\"]\n",
    "            if label=='Neutral':\n",
    "                neutralCorpus.append(newText)\n",
    "            elif label=='Hateful':\n",
    "                hatefulCorpus.append(newText)\n",
    "            else:\n",
    "                nHatefulCorpus.append(newText)"
   ]
  },
  {
   "cell_type": "code",
   "execution_count": 5,
   "id": "0cc9fac8",
   "metadata": {},
   "outputs": [
    {
     "name": "stdout",
     "output_type": "stream",
     "text": [
      "Accuracy: 0.8011928429423459\n",
      "              precision    recall  f1-score   support\n",
      "\n",
      "           0       0.44      0.18      0.26        82\n",
      "           1       0.83      0.95      0.89       407\n",
      "           2       0.50      0.07      0.12        14\n",
      "\n",
      "    accuracy                           0.80       503\n",
      "   macro avg       0.59      0.40      0.42       503\n",
      "weighted avg       0.76      0.80      0.76       503\n",
      "\n"
     ]
    }
   ],
   "source": [
    "data = hatefulCorpus + nHatefulCorpus + neutralCorpus\n",
    "labels = [0] * len(hatefulCorpus) + [1] * len(nHatefulCorpus) + [2] * len(neutralCorpus)\n",
    "vectorizer = TfidfVectorizer()\n",
    "features = vectorizer.fit_transform(data)\n",
    "X_train, X_test, y_train, y_test = train_test_split(features, labels, test_size=0.2, random_state=42)\n",
    "\n",
    "# Step 3: XGBoost Classifier Training\n",
    "xgb_classifier = xgb.XGBClassifier()\n",
    "xgb_classifier.fit(X_train, y_train)\n",
    "\n",
    "# Step 4: Evaluation\n",
    "y_pred = xgb_classifier.predict(X_test)\n",
    "print(\"Accuracy:\", accuracy_score(y_test, y_pred))\n",
    "print(classification_report(y_test, y_pred))"
   ]
  },
  {
   "cell_type": "code",
   "execution_count": 6,
   "id": "8dc1bd9f",
   "metadata": {},
   "outputs": [
    {
     "name": "stdout",
     "output_type": "stream",
     "text": [
      "Predicted label: hateful\n"
     ]
    }
   ],
   "source": [
    "import os\n",
    "import pickle\n",
    "save_directory = 'savedModels'\n",
    "os.makedirs(save_directory, exist_ok=True)\n",
    "filename = os.path.join(save_directory, 'xgb_model.pkl')\n",
    "pickle.dump(xgb_classifier, open(filename, 'wb'))\n",
    "loaded_model = pickle.load(open(filename, 'rb'))\n",
    "new_text = [\"Send all the criminal immigrants out of Europe...NOW....\"]\n",
    "new_features = vectorizer.transform(new_text)\n",
    "prediction = loaded_model.predict(new_features)\n",
    "label_mapping = {0: 'hateful', 1: 'non-hateful', 2: 'neutral'}\n",
    "predicted_label = label_mapping[prediction[0]]\n",
    "print(\"Predicted label:\", predicted_label)"
   ]
  },
  {
   "cell_type": "code",
   "execution_count": null,
   "id": "b1eec918",
   "metadata": {},
   "outputs": [],
   "source": [
    "#word_embedding_model = KeyedVectors.load_word2vec_format('GoogleNews-vectors-negative300.bin', binary=True)"
   ]
  },
  {
   "cell_type": "code",
   "execution_count": null,
   "id": "3296dd63",
   "metadata": {},
   "outputs": [],
   "source": [
    "#Check later\n",
    "from sklearn.feature_extraction.text import TfidfVectorizer\n",
    "from sklearn.preprocessing import LabelEncoder\n",
    "corpus = neutralCorpus + hatefulCorpus + nHatefulCorpus\n",
    "labels = ['Neutral'] * len(neutralCorpus) + ['Hateful'] * len(hatefulCorpus) + ['Non Hateful'] * len(nHatefulCorpus)\n",
    "\n",
    "# Encode labels\n",
    "label_encoder = LabelEncoder()\n",
    "encoded_labels = label_encoder.fit_transform(labels)\n",
    "\n",
    "# Split the data into train and test sets\n",
    "X_train, X_test, y_train, y_test = train_test_split(corpus, encoded_labels, test_size=0.2, random_state=42)\n",
    "\n",
    "# Step 2: Extract features using TF-IDF\n",
    "vectorizer = TfidfVectorizer()\n",
    "X_train_tfidf = vectorizer.fit_transform(X_train)\n",
    "X_test_tfidf = vectorizer.transform(X_test)\n",
    "\n",
    "# Step 3: Define the XGBoost classifier\n",
    "xgb_classifier = xgb.XGBClassifier(objective='multi:softmax', num_class=len(label_encoder.classes_))\n",
    "\n",
    "# Step 4: Train the classifier\n",
    "xgb_classifier.fit(X_train_tfidf, y_train)\n",
    "\n",
    "# Step 5: Make predictions on the test data\n",
    "y_pred = xgb_classifier.predict(X_test_tfidf)\n",
    "\n",
    "# Step 6: Decode the predicted labels\n",
    "predicted_labels = label_encoder.inverse_transform(y_pred)\n",
    "\n",
    "# Step 7: Evaluate the accuracy\n",
    "accuracy = accuracy_score(label_encoder.inverse_transform(y_test), predicted_labels)\n",
    "print(\"Accuracy:\", accuracy)"
   ]
  },
  {
   "cell_type": "code",
   "execution_count": null,
   "id": "4133839e",
   "metadata": {},
   "outputs": [],
   "source": [
    "# Create labels\n",
    "hateful_labels = np.ones(len(hatefulCorpus))\n",
    "nHateful_labels = np.zeros(len(nHatefulCorpus))\n",
    "neutral_labels = np.full(len(neutralCorpus), 2)\n",
    "\n",
    "# Combine data and labels\n",
    "data = nHatefulCorpus + hatefulCorpus + neutralCorpus\n",
    "labels = np.concatenate([hateful_labels, nHateful_labels, neutral_labels])\n",
    "\n",
    "# Convert text to word embeddings\n",
    "data_embeddings = []\n",
    "for text in data:\n",
    "    words = word_tokenize(text)\n",
    "    embeddings = []\n",
    "    for word in words:\n",
    "        if word in word_embedding_model:\n",
    "            embeddings.append(word_embedding_model[word])\n",
    "    if embeddings:\n",
    "        text_embedding = np.mean(embeddings, axis=0)\n",
    "        data_embeddings.append(text_embedding)\n",
    "\n",
    "data_embeddings = np.array(data_embeddings)\n",
    "#data_embeddings"
   ]
  },
  {
   "cell_type": "code",
   "execution_count": null,
   "id": "12437773",
   "metadata": {},
   "outputs": [],
   "source": [
    "labels = labels[:data_embeddings.shape[0]]\n",
    "X_train, X_test, y_train, y_test = train_test_split(data_embeddings, labels, test_size=0.2, random_state=42)\n",
    "\n",
    "params = {\n",
    "    'objective': 'multi:softmax',\n",
    "    'num_class': 3,\n",
    "}\n",
    "\n",
    "xgb_classifier = xgb.XGBClassifier(**params)\n",
    "xgb_classifier.fit(X_train, y_train)\n",
    "y_pred = xgb_classifier.predict(X_test)\n",
    "\n",
    "accuracy = accuracy_score(y_test, y_pred)\n",
    "print(\"Accuracy:\", accuracy)"
   ]
  }
 ],
 "metadata": {
  "kernelspec": {
   "display_name": "Python 3 (ipykernel)",
   "language": "python",
   "name": "python3"
  },
  "language_info": {
   "codemirror_mode": {
    "name": "ipython",
    "version": 3
   },
   "file_extension": ".py",
   "mimetype": "text/x-python",
   "name": "python",
   "nbconvert_exporter": "python",
   "pygments_lexer": "ipython3",
   "version": "3.10.6"
  }
 },
 "nbformat": 4,
 "nbformat_minor": 5
}
