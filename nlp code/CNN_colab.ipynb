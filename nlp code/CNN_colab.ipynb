{
  "cells": [
    {
      "cell_type": "code",
      "source": [
        "from google.colab import drive\n",
        "drive.mount('/content/drive/')\n",
        "%cd drive/MyDrive/colab_final_project/"
      ],
      "metadata": {
        "colab": {
          "base_uri": "https://localhost:8080/"
        },
        "id": "X6Z1bjaGDbJa",
        "outputId": "4700dd0b-d621-4a22-cbf7-86baecf55c19"
      },
      "id": "X6Z1bjaGDbJa",
      "execution_count": 3,
      "outputs": [
        {
          "output_type": "stream",
          "name": "stdout",
          "text": [
            "Mounted at /content/drive\n"
          ]
        }
      ]
    },
    {
      "cell_type": "code",
      "source": [
        "!pip install tensorflow==2.13.0\n",
        "!pip install protobuf==3.20.3\n",
        "!pip install nltk==3.7\n",
        "!pip install numpy==1.23.3"
      ],
      "metadata": {
        "colab": {
          "base_uri": "https://localhost:8080/",
          "height": 1000
        },
        "id": "l8CPYlAzAnop",
        "outputId": "df5e8b7a-e358-4fe1-a2d2-d2607ee36e41"
      },
      "id": "l8CPYlAzAnop",
      "execution_count": 3,
      "outputs": [
        {
          "output_type": "stream",
          "name": "stdout",
          "text": [
            "Collecting tensorflow==2.13.0\n",
            "  Downloading tensorflow-2.13.0-cp310-cp310-manylinux_2_17_x86_64.manylinux2014_x86_64.whl (524.1 MB)\n",
            "\u001b[2K     \u001b[90m━━━━━━━━━━━━━━━━━━━━━━━━━━━━━━━━━━━━━━━\u001b[0m \u001b[32m524.1/524.1 MB\u001b[0m \u001b[31m3.0 MB/s\u001b[0m eta \u001b[36m0:00:00\u001b[0m\n",
            "\u001b[?25hRequirement already satisfied: absl-py>=1.0.0 in /usr/local/lib/python3.10/dist-packages (from tensorflow==2.13.0) (1.4.0)\n",
            "Requirement already satisfied: astunparse>=1.6.0 in /usr/local/lib/python3.10/dist-packages (from tensorflow==2.13.0) (1.6.3)\n",
            "Requirement already satisfied: flatbuffers>=23.1.21 in /usr/local/lib/python3.10/dist-packages (from tensorflow==2.13.0) (23.5.26)\n",
            "Requirement already satisfied: gast<=0.4.0,>=0.2.1 in /usr/local/lib/python3.10/dist-packages (from tensorflow==2.13.0) (0.4.0)\n",
            "Requirement already satisfied: google-pasta>=0.1.1 in /usr/local/lib/python3.10/dist-packages (from tensorflow==2.13.0) (0.2.0)\n",
            "Requirement already satisfied: grpcio<2.0,>=1.24.3 in /usr/local/lib/python3.10/dist-packages (from tensorflow==2.13.0) (1.56.0)\n",
            "Requirement already satisfied: h5py>=2.9.0 in /usr/local/lib/python3.10/dist-packages (from tensorflow==2.13.0) (3.8.0)\n",
            "Collecting keras<2.14,>=2.13.1 (from tensorflow==2.13.0)\n",
            "  Downloading keras-2.13.1-py3-none-any.whl (1.7 MB)\n",
            "\u001b[2K     \u001b[90m━━━━━━━━━━━━━━━━━━━━━━━━━━━━━━━━━━━━━━━━\u001b[0m \u001b[32m1.7/1.7 MB\u001b[0m \u001b[31m71.3 MB/s\u001b[0m eta \u001b[36m0:00:00\u001b[0m\n",
            "\u001b[?25hRequirement already satisfied: libclang>=13.0.0 in /usr/local/lib/python3.10/dist-packages (from tensorflow==2.13.0) (16.0.0)\n",
            "Requirement already satisfied: numpy<=1.24.3,>=1.22 in /usr/local/lib/python3.10/dist-packages (from tensorflow==2.13.0) (1.22.4)\n",
            "Requirement already satisfied: opt-einsum>=2.3.2 in /usr/local/lib/python3.10/dist-packages (from tensorflow==2.13.0) (3.3.0)\n",
            "Requirement already satisfied: packaging in /usr/local/lib/python3.10/dist-packages (from tensorflow==2.13.0) (23.1)\n",
            "Requirement already satisfied: protobuf!=4.21.0,!=4.21.1,!=4.21.2,!=4.21.3,!=4.21.4,!=4.21.5,<5.0.0dev,>=3.20.3 in /usr/local/lib/python3.10/dist-packages (from tensorflow==2.13.0) (3.20.3)\n",
            "Requirement already satisfied: setuptools in /usr/local/lib/python3.10/dist-packages (from tensorflow==2.13.0) (67.7.2)\n",
            "Requirement already satisfied: six>=1.12.0 in /usr/local/lib/python3.10/dist-packages (from tensorflow==2.13.0) (1.16.0)\n",
            "Collecting tensorboard<2.14,>=2.13 (from tensorflow==2.13.0)\n",
            "  Downloading tensorboard-2.13.0-py3-none-any.whl (5.6 MB)\n",
            "\u001b[2K     \u001b[90m━━━━━━━━━━━━━━━━━━━━━━━━━━━━━━━━━━━━━━━━\u001b[0m \u001b[32m5.6/5.6 MB\u001b[0m \u001b[31m97.3 MB/s\u001b[0m eta \u001b[36m0:00:00\u001b[0m\n",
            "\u001b[?25hCollecting tensorflow-estimator<2.14,>=2.13.0 (from tensorflow==2.13.0)\n",
            "  Downloading tensorflow_estimator-2.13.0-py2.py3-none-any.whl (440 kB)\n",
            "\u001b[2K     \u001b[90m━━━━━━━━━━━━━━━━━━━━━━━━━━━━━━━━━━━━━━\u001b[0m \u001b[32m440.8/440.8 kB\u001b[0m \u001b[31m35.1 MB/s\u001b[0m eta \u001b[36m0:00:00\u001b[0m\n",
            "\u001b[?25hRequirement already satisfied: termcolor>=1.1.0 in /usr/local/lib/python3.10/dist-packages (from tensorflow==2.13.0) (2.3.0)\n",
            "Collecting typing-extensions<4.6.0,>=3.6.6 (from tensorflow==2.13.0)\n",
            "  Downloading typing_extensions-4.5.0-py3-none-any.whl (27 kB)\n",
            "Requirement already satisfied: wrapt>=1.11.0 in /usr/local/lib/python3.10/dist-packages (from tensorflow==2.13.0) (1.14.1)\n",
            "Requirement already satisfied: tensorflow-io-gcs-filesystem>=0.23.1 in /usr/local/lib/python3.10/dist-packages (from tensorflow==2.13.0) (0.32.0)\n",
            "Requirement already satisfied: wheel<1.0,>=0.23.0 in /usr/local/lib/python3.10/dist-packages (from astunparse>=1.6.0->tensorflow==2.13.0) (0.40.0)\n",
            "Requirement already satisfied: google-auth<3,>=1.6.3 in /usr/local/lib/python3.10/dist-packages (from tensorboard<2.14,>=2.13->tensorflow==2.13.0) (2.17.3)\n",
            "Requirement already satisfied: google-auth-oauthlib<1.1,>=0.5 in /usr/local/lib/python3.10/dist-packages (from tensorboard<2.14,>=2.13->tensorflow==2.13.0) (1.0.0)\n",
            "Requirement already satisfied: markdown>=2.6.8 in /usr/local/lib/python3.10/dist-packages (from tensorboard<2.14,>=2.13->tensorflow==2.13.0) (3.4.3)\n",
            "Requirement already satisfied: requests<3,>=2.21.0 in /usr/local/lib/python3.10/dist-packages (from tensorboard<2.14,>=2.13->tensorflow==2.13.0) (2.27.1)\n",
            "Requirement already satisfied: tensorboard-data-server<0.8.0,>=0.7.0 in /usr/local/lib/python3.10/dist-packages (from tensorboard<2.14,>=2.13->tensorflow==2.13.0) (0.7.1)\n",
            "Requirement already satisfied: werkzeug>=1.0.1 in /usr/local/lib/python3.10/dist-packages (from tensorboard<2.14,>=2.13->tensorflow==2.13.0) (2.3.6)\n",
            "Requirement already satisfied: cachetools<6.0,>=2.0.0 in /usr/local/lib/python3.10/dist-packages (from google-auth<3,>=1.6.3->tensorboard<2.14,>=2.13->tensorflow==2.13.0) (5.3.1)\n",
            "Requirement already satisfied: pyasn1-modules>=0.2.1 in /usr/local/lib/python3.10/dist-packages (from google-auth<3,>=1.6.3->tensorboard<2.14,>=2.13->tensorflow==2.13.0) (0.3.0)\n",
            "Requirement already satisfied: rsa<5,>=3.1.4 in /usr/local/lib/python3.10/dist-packages (from google-auth<3,>=1.6.3->tensorboard<2.14,>=2.13->tensorflow==2.13.0) (4.9)\n",
            "Requirement already satisfied: requests-oauthlib>=0.7.0 in /usr/local/lib/python3.10/dist-packages (from google-auth-oauthlib<1.1,>=0.5->tensorboard<2.14,>=2.13->tensorflow==2.13.0) (1.3.1)\n",
            "Requirement already satisfied: urllib3<1.27,>=1.21.1 in /usr/local/lib/python3.10/dist-packages (from requests<3,>=2.21.0->tensorboard<2.14,>=2.13->tensorflow==2.13.0) (1.26.16)\n",
            "Requirement already satisfied: certifi>=2017.4.17 in /usr/local/lib/python3.10/dist-packages (from requests<3,>=2.21.0->tensorboard<2.14,>=2.13->tensorflow==2.13.0) (2023.5.7)\n",
            "Requirement already satisfied: charset-normalizer~=2.0.0 in /usr/local/lib/python3.10/dist-packages (from requests<3,>=2.21.0->tensorboard<2.14,>=2.13->tensorflow==2.13.0) (2.0.12)\n",
            "Requirement already satisfied: idna<4,>=2.5 in /usr/local/lib/python3.10/dist-packages (from requests<3,>=2.21.0->tensorboard<2.14,>=2.13->tensorflow==2.13.0) (3.4)\n",
            "Requirement already satisfied: MarkupSafe>=2.1.1 in /usr/local/lib/python3.10/dist-packages (from werkzeug>=1.0.1->tensorboard<2.14,>=2.13->tensorflow==2.13.0) (2.1.3)\n",
            "Requirement already satisfied: pyasn1<0.6.0,>=0.4.6 in /usr/local/lib/python3.10/dist-packages (from pyasn1-modules>=0.2.1->google-auth<3,>=1.6.3->tensorboard<2.14,>=2.13->tensorflow==2.13.0) (0.5.0)\n",
            "Requirement already satisfied: oauthlib>=3.0.0 in /usr/local/lib/python3.10/dist-packages (from requests-oauthlib>=0.7.0->google-auth-oauthlib<1.1,>=0.5->tensorboard<2.14,>=2.13->tensorflow==2.13.0) (3.2.2)\n",
            "Installing collected packages: typing-extensions, tensorflow-estimator, keras, tensorboard, tensorflow\n",
            "  Attempting uninstall: typing-extensions\n",
            "    Found existing installation: typing_extensions 4.7.1\n",
            "    Uninstalling typing_extensions-4.7.1:\n",
            "      Successfully uninstalled typing_extensions-4.7.1\n",
            "  Attempting uninstall: tensorflow-estimator\n",
            "    Found existing installation: tensorflow-estimator 2.12.0\n",
            "    Uninstalling tensorflow-estimator-2.12.0:\n",
            "      Successfully uninstalled tensorflow-estimator-2.12.0\n",
            "  Attempting uninstall: keras\n",
            "    Found existing installation: keras 2.12.0\n",
            "    Uninstalling keras-2.12.0:\n",
            "      Successfully uninstalled keras-2.12.0\n",
            "  Attempting uninstall: tensorboard\n",
            "    Found existing installation: tensorboard 2.12.3\n",
            "    Uninstalling tensorboard-2.12.3:\n",
            "      Successfully uninstalled tensorboard-2.12.3\n",
            "  Attempting uninstall: tensorflow\n",
            "    Found existing installation: tensorflow 2.12.0\n",
            "    Uninstalling tensorflow-2.12.0:\n",
            "      Successfully uninstalled tensorflow-2.12.0\n",
            "Successfully installed keras-2.13.1 tensorboard-2.13.0 tensorflow-2.13.0 tensorflow-estimator-2.13.0 typing-extensions-4.5.0\n",
            "Requirement already satisfied: protobuf==3.20.3 in /usr/local/lib/python3.10/dist-packages (3.20.3)\n",
            "Collecting nltk==3.7\n",
            "  Using cached nltk-3.7-py3-none-any.whl (1.5 MB)\n",
            "Requirement already satisfied: click in /usr/local/lib/python3.10/dist-packages (from nltk==3.7) (8.1.4)\n",
            "Requirement already satisfied: joblib in /usr/local/lib/python3.10/dist-packages (from nltk==3.7) (1.3.1)\n",
            "Requirement already satisfied: regex>=2021.8.3 in /usr/local/lib/python3.10/dist-packages (from nltk==3.7) (2022.10.31)\n",
            "Requirement already satisfied: tqdm in /usr/local/lib/python3.10/dist-packages (from nltk==3.7) (4.65.0)\n",
            "Installing collected packages: nltk\n",
            "  Attempting uninstall: nltk\n",
            "    Found existing installation: nltk 3.8.1\n",
            "    Uninstalling nltk-3.8.1:\n",
            "      Successfully uninstalled nltk-3.8.1\n",
            "Successfully installed nltk-3.7\n",
            "Collecting numpy==1.23.3\n",
            "  Downloading numpy-1.23.3-cp310-cp310-manylinux_2_17_x86_64.manylinux2014_x86_64.whl (17.1 MB)\n",
            "\u001b[2K     \u001b[90m━━━━━━━━━━━━━━━━━━━━━━━━━━━━━━━━━━━━━━━━\u001b[0m \u001b[32m17.1/17.1 MB\u001b[0m \u001b[31m25.9 MB/s\u001b[0m eta \u001b[36m0:00:00\u001b[0m\n",
            "\u001b[?25hInstalling collected packages: numpy\n",
            "  Attempting uninstall: numpy\n",
            "    Found existing installation: numpy 1.22.4\n",
            "    Uninstalling numpy-1.22.4:\n",
            "      Successfully uninstalled numpy-1.22.4\n",
            "Successfully installed numpy-1.23.3\n"
          ]
        },
        {
          "output_type": "display_data",
          "data": {
            "application/vnd.colab-display-data+json": {
              "pip_warning": {
                "packages": [
                  "numpy"
                ]
              }
            }
          },
          "metadata": {}
        }
      ]
    },
    {
      "cell_type": "code",
      "source": [
        "!pip install langdetect==1.0.9\n",
        "!pip install pymongo\n",
        "!pip install emoji\n",
        "!pip install mysql-connector-python==8.0.33\n",
        "!pip install scikeras"
      ],
      "metadata": {
        "colab": {
          "base_uri": "https://localhost:8080/"
        },
        "id": "nHffmf7FCA6u",
        "outputId": "7e65a982-2239-4569-ed8b-0940ffaf0b23"
      },
      "id": "nHffmf7FCA6u",
      "execution_count": 19,
      "outputs": [
        {
          "output_type": "stream",
          "name": "stdout",
          "text": [
            "Requirement already satisfied: langdetect==1.0.9 in /usr/local/lib/python3.10/dist-packages (1.0.9)\n",
            "Requirement already satisfied: six in /usr/local/lib/python3.10/dist-packages (from langdetect==1.0.9) (1.16.0)\n",
            "Requirement already satisfied: pymongo in /usr/local/lib/python3.10/dist-packages (4.4.0)\n",
            "Requirement already satisfied: dnspython<3.0.0,>=1.16.0 in /usr/local/lib/python3.10/dist-packages (from pymongo) (2.3.0)\n",
            "Requirement already satisfied: emoji in /usr/local/lib/python3.10/dist-packages (2.6.0)\n",
            "Requirement already satisfied: mysql-connector-python==8.0.33 in /usr/local/lib/python3.10/dist-packages (8.0.33)\n",
            "Requirement already satisfied: protobuf<=3.20.3,>=3.11.0 in /usr/local/lib/python3.10/dist-packages (from mysql-connector-python==8.0.33) (3.20.3)\n",
            "Collecting scikeras\n",
            "  Downloading scikeras-0.11.0-py3-none-any.whl (27 kB)\n",
            "Requirement already satisfied: packaging>=0.21 in /usr/local/lib/python3.10/dist-packages (from scikeras) (23.1)\n",
            "Requirement already satisfied: scikit-learn>=1.0.0 in /usr/local/lib/python3.10/dist-packages (from scikeras) (1.2.2)\n",
            "Requirement already satisfied: numpy>=1.17.3 in /usr/local/lib/python3.10/dist-packages (from scikit-learn>=1.0.0->scikeras) (1.23.3)\n",
            "Requirement already satisfied: scipy>=1.3.2 in /usr/local/lib/python3.10/dist-packages (from scikit-learn>=1.0.0->scikeras) (1.10.1)\n",
            "Requirement already satisfied: joblib>=1.1.1 in /usr/local/lib/python3.10/dist-packages (from scikit-learn>=1.0.0->scikeras) (1.3.1)\n",
            "Requirement already satisfied: threadpoolctl>=2.0.0 in /usr/local/lib/python3.10/dist-packages (from scikit-learn>=1.0.0->scikeras) (3.1.0)\n",
            "Installing collected packages: scikeras\n",
            "Successfully installed scikeras-0.11.0\n"
          ]
        }
      ]
    },
    {
      "cell_type": "code",
      "source": [
        "!pip show tensorflow\n",
        "!pip show numpy\n",
        "!pip show nltk"
      ],
      "metadata": {
        "colab": {
          "base_uri": "https://localhost:8080/"
        },
        "id": "ca1EsrRsBmBM",
        "outputId": "e381d60b-5f82-4abb-e573-e077908e26a7"
      },
      "id": "ca1EsrRsBmBM",
      "execution_count": 2,
      "outputs": [
        {
          "output_type": "stream",
          "name": "stdout",
          "text": [
            "Name: tensorflow\n",
            "Version: 2.13.0\n",
            "Summary: TensorFlow is an open source machine learning framework for everyone.\n",
            "Home-page: https://www.tensorflow.org/\n",
            "Author: Google Inc.\n",
            "Author-email: packages@tensorflow.org\n",
            "License: Apache 2.0\n",
            "Location: /usr/local/lib/python3.10/dist-packages\n",
            "Requires: absl-py, astunparse, flatbuffers, gast, google-pasta, grpcio, h5py, keras, libclang, numpy, opt-einsum, packaging, protobuf, setuptools, six, tensorboard, tensorflow-estimator, tensorflow-io-gcs-filesystem, termcolor, typing-extensions, wrapt\n",
            "Required-by: dopamine-rl\n",
            "Name: numpy\n",
            "Version: 1.23.3\n",
            "Summary: NumPy is the fundamental package for array computing with Python.\n",
            "Home-page: https://www.numpy.org\n",
            "Author: Travis E. Oliphant et al.\n",
            "Author-email: \n",
            "License: BSD\n",
            "Location: /usr/local/lib/python3.10/dist-packages\n",
            "Requires: \n",
            "Required-by: albumentations, altair, arviz, astropy, autograd, blis, bokeh, chex, cmdstanpy, contourpy, cufflinks, cvxpy, datascience, db-dtypes, dopamine-rl, ecos, flax, folium, gensim, gym, h5py, holoviews, hyperopt, imageio, imbalanced-learn, imgaug, jax, jaxlib, librosa, lightgbm, matplotlib, matplotlib-venn, missingno, mizani, ml-dtypes, mlxtend, moviepy, music21, nibabel, numba, numexpr, opencv-contrib-python, opencv-python, opencv-python-headless, opt-einsum, optax, orbax-checkpoint, osqp, pandas, pandas-gbq, patsy, plotnine, prophet, pyarrow, pycocotools, pyerfa, pymc, pytensor, python-louvain, PyWavelets, qdldl, qudida, scikit-image, scikit-learn, scipy, scs, seaborn, shapely, sklearn-pandas, soxr, spacy, statsmodels, tables, tensorboard, tensorflow, tensorflow-datasets, tensorflow-hub, tensorflow-probability, tensorstore, thinc, tifffile, torchtext, torchvision, wordcloud, xarray, xarray-einstats, xgboost, yellowbrick, yfinance\n",
            "Name: nltk\n",
            "Version: 3.7\n",
            "Summary: Natural Language Toolkit\n",
            "Home-page: https://www.nltk.org/\n",
            "Author: NLTK Team\n",
            "Author-email: nltk.team@gmail.com\n",
            "License: Apache License, Version 2.0\n",
            "Location: /usr/local/lib/python3.10/dist-packages\n",
            "Requires: click, joblib, regex, tqdm\n",
            "Required-by: textblob\n"
          ]
        }
      ]
    },
    {
      "cell_type": "code",
      "execution_count": 14,
      "id": "f93e9a84",
      "metadata": {
        "colab": {
          "base_uri": "https://localhost:8080/"
        },
        "id": "f93e9a84",
        "outputId": "cb5d6099-0af6-4704-8e10-89d3ead8a666"
      },
      "outputs": [
        {
          "output_type": "stream",
          "name": "stderr",
          "text": [
            "[nltk_data] Downloading package punkt to /root/nltk_data...\n",
            "[nltk_data]   Unzipping tokenizers/punkt.zip.\n",
            "[nltk_data] Downloading package stopwords to /root/nltk_data...\n",
            "[nltk_data]   Package stopwords is already up-to-date!\n",
            "[nltk_data] Downloading package averaged_perceptron_tagger to\n",
            "[nltk_data]     /root/nltk_data...\n",
            "[nltk_data]   Package averaged_perceptron_tagger is already up-to-\n",
            "[nltk_data]       date!\n",
            "[nltk_data] Downloading package wordnet to /root/nltk_data...\n",
            "[nltk_data]   Package wordnet is already up-to-date!\n",
            "[nltk_data] Downloading package punkt to /root/nltk_data...\n",
            "[nltk_data]   Package punkt is already up-to-date!\n",
            "[nltk_data] Downloading package omw-1.4 to /root/nltk_data...\n"
          ]
        },
        {
          "output_type": "execute_result",
          "data": {
            "text/plain": [
              "True"
            ]
          },
          "metadata": {},
          "execution_count": 14
        }
      ],
      "source": [
        "import nltk\n",
        "from nltk.corpus import stopwords\n",
        "from nltk.tokenize import word_tokenize\n",
        "from nltk.probability import FreqDist\n",
        "import os.path\n",
        "from nltk.stem import PorterStemmer, WordNetLemmatizer\n",
        "from nltk.corpus import wordnet\n",
        "from nltk import pos_tag\n",
        "import numpy as np\n",
        "import re\n",
        "import math\n",
        "import pandas as pd\n",
        "import csv\n",
        "import pickle\n",
        "from tensorflow.keras.models import Sequential\n",
        "from tensorflow.keras.layers import Embedding, Conv1D, Dense, Dropout, Flatten\n",
        "from tensorflow.keras.callbacks import EarlyStopping\n",
        "from sklearn.model_selection import train_test_split\n",
        "from langdetect import detect\n",
        "import tensorflow as tf\n",
        "import matplotlib.pyplot as plt\n",
        "from sklearn.metrics import classification_report\n",
        "from pymongo import MongoClient\n",
        "import emoji\n",
        "import mysql.connector\n",
        "\n",
        "nltk.download('punkt')\n",
        "nltk.download('stopwords')\n",
        "nltk.download('averaged_perceptron_tagger')\n",
        "nltk.download('wordnet')\n",
        "nltk.download('punkt')\n",
        "nltk.download('omw-1.4')"
      ]
    },
    {
      "cell_type": "code",
      "execution_count": 11,
      "id": "21494d11",
      "metadata": {
        "id": "21494d11"
      },
      "outputs": [],
      "source": [
        "emoji_dict = {}\n",
        "with open('emoji.txt', 'r', encoding='latin-1') as emoji_file:\n",
        "    for line in emoji_file:\n",
        "        line = line.strip()\n",
        "        if line:\n",
        "            emoji, value = line.split('\\t')\n",
        "            emoji_dict[emoji] = int(value)"
      ]
    },
    {
      "cell_type": "code",
      "execution_count": 12,
      "id": "91106086",
      "metadata": {
        "id": "91106086"
      },
      "outputs": [],
      "source": [
        "def replace_emojis(text, emoji_dict):\n",
        "    for emoji, value in emoji_dict.items():\n",
        "        if value == 1:\n",
        "            text = re.sub(re.escape(emoji), 'happy', text)\n",
        "        elif value == -1:\n",
        "            text = re.sub(re.escape(emoji), 'sad', text)\n",
        "    return text"
      ]
    },
    {
      "cell_type": "code",
      "execution_count": 15,
      "id": "f1ac01d9",
      "metadata": {
        "id": "f1ac01d9"
      },
      "outputs": [],
      "source": [
        "#vincent\n",
        "def get_wordnet_pos(treebank_tag):\n",
        "    if treebank_tag.startswith('J'):\n",
        "        return wordnet.ADJ\n",
        "    elif treebank_tag.startswith('V'):\n",
        "        return wordnet.VERB\n",
        "    elif treebank_tag.startswith('N'):\n",
        "        return wordnet.NOUN\n",
        "    elif treebank_tag.startswith('R'):\n",
        "        return wordnet.ADV\n",
        "    else:\n",
        "        return None\n",
        "\n",
        "def preprocess_text(text):\n",
        "    text = text.lower()\n",
        "    text = re.sub(r\"[^a-zA-Z0-9\\s]\", \"\", text)\n",
        "    words = word_tokenize(text)\n",
        "    stemmer = PorterStemmer()\n",
        "    words = [stemmer.stem(word) for word in words]\n",
        "    lemmatizer = WordNetLemmatizer()\n",
        "    tagged = pos_tag(words)\n",
        "    words = [lemmatizer.lemmatize(word, pos=get_wordnet_pos(pos)) if get_wordnet_pos(pos) else word for word, pos in tagged]\n",
        "    stop_words = set(stopwords.words('english'))\n",
        "    filtered_words = [word for word in words if word not in stop_words]\n",
        "    return ' '.join(filtered_words)\n",
        "\n",
        "hatefulCorpus=[]\n",
        "nHatefulCorpus=[]\n",
        "neutralCorpus=[]\n",
        "with open(\"firstIter.csv\", \"r\", encoding=\"utf-8\") as file:\n",
        "    reader = csv.DictReader(file)\n",
        "    for row in reader:\n",
        "        if not all(value == \"\" for value in row.values()):\n",
        "            text = row[\"Comment Text\"]\n",
        "            if text == \"\":\n",
        "                continue\n",
        "            label = row[\"Label\"]\n",
        "            if label == \"\":\n",
        "                continue\n",
        "            try:\n",
        "                lang=detect(text)\n",
        "            except:\n",
        "                lang = \"\"\n",
        "            if lang != \"en\":\n",
        "                continue\n",
        "            newText = text.strip()\n",
        "            newText = replace_emojis(newText, emoji_dict)\n",
        "            newText = preprocess_text(newText)\n",
        "            if label=='Neutral':\n",
        "                neutralCorpus.append(newText)\n",
        "            elif label=='Hateful':\n",
        "                hatefulCorpus.append(newText)\n",
        "            else:\n",
        "                nHatefulCorpus.append(newText)"
      ]
    },
    {
      "cell_type": "markdown",
      "id": "1df7757e",
      "metadata": {
        "id": "1df7757e"
      },
      "source": [
        "## Implementing CNN using Glove Embedding"
      ]
    },
    {
      "cell_type": "code",
      "execution_count": 16,
      "id": "cfb272ef",
      "metadata": {
        "colab": {
          "base_uri": "https://localhost:8080/"
        },
        "id": "cfb272ef",
        "outputId": "454f6dbb-f6ca-4a80-9ea0-00cafdd51886"
      },
      "outputs": [
        {
          "output_type": "stream",
          "name": "stdout",
          "text": [
            "nutral = 269 nhateful = 273 hateful = 272\n"
          ]
        }
      ],
      "source": [
        "hatefulCorpus = hatefulCorpus[:272]\n",
        "print(\"nutral = \"+str(len(neutralCorpus))+\" nhateful = \"+str(len(nHatefulCorpus))+\" hateful = \"+str(len(hatefulCorpus)))"
      ]
    },
    {
      "cell_type": "code",
      "execution_count": 20,
      "id": "e6125e7c",
      "metadata": {
        "colab": {
          "base_uri": "https://localhost:8080/"
        },
        "id": "e6125e7c",
        "outputId": "645622bc-5ced-4910-d8c4-c6637dbd1b71"
      },
      "outputs": [
        {
          "output_type": "stream",
          "name": "stdout",
          "text": [
            "Epoch 1/40\n",
            "21/21 [==============================] - 3s 44ms/step - loss: 1.1298 - accuracy: 0.3364 - val_loss: 1.0870 - val_accuracy: 0.4294\n",
            "Epoch 2/40\n",
            "21/21 [==============================] - 0s 23ms/step - loss: 1.0803 - accuracy: 0.4055 - val_loss: 1.0794 - val_accuracy: 0.4417\n",
            "Epoch 3/40\n",
            "21/21 [==============================] - 0s 22ms/step - loss: 1.0757 - accuracy: 0.4055 - val_loss: 1.0796 - val_accuracy: 0.4724\n",
            "Epoch 4/40\n",
            "21/21 [==============================] - 0s 23ms/step - loss: 1.0612 - accuracy: 0.4224 - val_loss: 1.0705 - val_accuracy: 0.4294\n",
            "Epoch 5/40\n",
            "21/21 [==============================] - 0s 18ms/step - loss: 1.0608 - accuracy: 0.4485 - val_loss: 1.0632 - val_accuracy: 0.4049\n",
            "Epoch 6/40\n",
            "21/21 [==============================] - 0s 16ms/step - loss: 1.0270 - accuracy: 0.4992 - val_loss: 1.0502 - val_accuracy: 0.4110\n",
            "Epoch 7/40\n",
            "21/21 [==============================] - 0s 16ms/step - loss: 1.0263 - accuracy: 0.4670 - val_loss: 1.0428 - val_accuracy: 0.4172\n",
            "Epoch 8/40\n",
            "21/21 [==============================] - 0s 17ms/step - loss: 0.9747 - accuracy: 0.5161 - val_loss: 1.0335 - val_accuracy: 0.4417\n",
            "Epoch 9/40\n",
            "21/21 [==============================] - 0s 14ms/step - loss: 0.9399 - accuracy: 0.5469 - val_loss: 1.0379 - val_accuracy: 0.4601\n",
            "Epoch 10/40\n",
            "21/21 [==============================] - 0s 16ms/step - loss: 0.9241 - accuracy: 0.5346 - val_loss: 1.0425 - val_accuracy: 0.4294\n",
            "Epoch 11/40\n",
            "21/21 [==============================] - 0s 17ms/step - loss: 0.8846 - accuracy: 0.5853 - val_loss: 1.0417 - val_accuracy: 0.4540\n",
            "6/6 [==============================] - 0s 5ms/step\n",
            "              precision    recall  f1-score   support\n",
            "\n",
            "           0       0.47      0.65      0.55        52\n",
            "           1       0.38      0.32      0.35        53\n",
            "           2       0.50      0.40      0.44        58\n",
            "\n",
            "    accuracy                           0.45       163\n",
            "   macro avg       0.45      0.46      0.45       163\n",
            "weighted avg       0.45      0.45      0.45       163\n",
            "\n"
          ]
        }
      ],
      "source": [
        "from keras.preprocessing.text import Tokenizer\n",
        "from keras.utils import pad_sequences\n",
        "from keras.models import Sequential\n",
        "from keras.utils import to_categorical\n",
        "from keras.layers import Embedding, Conv1D, MaxPooling1D, Flatten, Dense\n",
        "#from keras.wrappers.scikit_learn import KerasClassifier\n",
        "from scikeras.wrappers import KerasClassifier\n",
        "from sklearn.model_selection import GridSearchCV\n",
        "\n",
        "MAX_NB_WORDS = 20000\n",
        "MAX_SEQUENCE_LENGTH = 100\n",
        "training_corpus=hatefulCorpus + nHatefulCorpus + neutralCorpus\n",
        "\n",
        "embeddings_index = {}\n",
        "\n",
        "#Download Glove from http://nlp.stanford.edu/data/glove.6B.zip\n",
        "with open('embedding_models/glove.6B.100d.txt', 'r', encoding='utf-8') as f:\n",
        "    for line in f:\n",
        "        values = line.split()\n",
        "        word = values[0]\n",
        "        coefs = np.asarray(values[1:], dtype='float32')\n",
        "        embeddings_index[word] = coefs\n",
        "\n",
        "tokenizer = Tokenizer(num_words=MAX_NB_WORDS)\n",
        "tokenizer.fit_on_texts(training_corpus)\n",
        "word_index = tokenizer.word_index\n",
        "\n",
        "with open('tokenizer.pickle', 'wb') as handle:\n",
        "    pickle.dump(tokenizer, handle, protocol=pickle.HIGHEST_PROTOCOL)\n",
        "\n",
        "X = tokenizer.texts_to_sequences(training_corpus)\n",
        "X = pad_sequences(X, maxlen=MAX_SEQUENCE_LENGTH)\n",
        "\n",
        "y = np.array([0] * len(hatefulCorpus) + [1] * len(nHatefulCorpus) + [2] * len(neutralCorpus))\n",
        "y = to_categorical(y, num_classes=3)\n",
        "size = len(word_index)\n",
        "embedding_matrix = np.zeros((size + 1, 100))\n",
        "for word, i in word_index.items():\n",
        "    embedding_vector = embeddings_index.get(word)\n",
        "    if embedding_vector is not None:\n",
        "        embedding_matrix[i] = embedding_vector\n",
        "\n",
        "X_train, X_val, y_train, y_val = train_test_split(X, y, test_size=0.2, random_state=42)\n",
        "\n",
        "def create_model(optimizer='adam', filters=32, kernel_size=3, dropout_rate=0.5):\n",
        "    model = Sequential()\n",
        "    model.add(Embedding(size + 1, 100, weights=[embedding_matrix], input_length=MAX_SEQUENCE_LENGTH, trainable=False))\n",
        "    model.add(Conv1D(filters, kernel_size, activation='relu'))\n",
        "    model.add(MaxPooling1D(3))\n",
        "    model.add(Dropout(dropout_rate))\n",
        "    model.add(Conv1D(filters*2, kernel_size, activation='relu'))\n",
        "    model.add(MaxPooling1D(5))\n",
        "    model.add(Dropout(dropout_rate))\n",
        "    model.add(Flatten())\n",
        "    model.add(Dense(filters*2, activation='relu'))\n",
        "    model.add(Dense(3, activation='softmax'))\n",
        "    model.compile(loss='categorical_crossentropy', optimizer=optimizer, metrics=['accuracy'])\n",
        "    return model\n",
        "\n",
        "#model = KerasClassifier(build_fn=create_model, verbose=0)\n",
        "\n",
        "#param_grid = {\n",
        "#    'optimizer': ['adam', 'rmsprop'],\n",
        "#    'filters': [16, 32, 64, 128],\n",
        "#    'kernel_size': [3, 5],\n",
        "#    'dropout_rate': [0.3, 0.5]\n",
        "#}\n",
        "\n",
        "#grid = GridSearchCV(estimator=model, param_grid=param_grid, n_jobs=-1, cv=3)\n",
        "\n",
        "#grid_result = grid.fit(X_train, y_train)\n",
        "\n",
        "#print(\"Best Parameters: \", grid_result.best_params_)\n",
        "#print(\"Best Score: \", grid_result.best_score_)\n",
        "\n",
        "early_stopping = EarlyStopping(monitor='val_loss', patience=3)\n",
        "model = create_model(optimizer='adam', filters=32, kernel_size=3, dropout_rate=0.3)\n",
        "model.fit(X_train, y_train, validation_data=(X_val, y_val), epochs=40, batch_size=32, callbacks=[early_stopping])\n",
        "model.save('savedModels/CNN_Model')\n",
        "\n",
        "y_pred = model.predict(X_val)\n",
        "y_pred_classes = np.argmax(y_pred, axis=1)\n",
        "y_true = np.argmax(y_val, axis=1)\n",
        "report = classification_report(y_true, y_pred_classes)\n",
        "print(report)"
      ]
    },
    {
      "cell_type": "code",
      "execution_count": 21,
      "id": "bdaddd54",
      "metadata": {
        "id": "bdaddd54"
      },
      "outputs": [],
      "source": [
        "import random\n",
        "\n",
        "num_texts = 50  # Number of texts to fetch\n",
        "testCorpus = []\n",
        "\n",
        "with open(\"firstIter.csv\", \"r\", encoding=\"utf-8\") as file:\n",
        "    reader = csv.DictReader(file)\n",
        "    texts = [row[\"Comment Text\"] for row in reader if row[\"Comment Text\"]]\n",
        "    random.shuffle(texts)\n",
        "    for text in texts:\n",
        "        try:\n",
        "            lang = detect(text)\n",
        "        except:\n",
        "            lang = \"\"\n",
        "        if lang == \"en\":\n",
        "            newText = text.strip()\n",
        "            newText = replace_emojis(newText, emoji_dict)\n",
        "            newText = preprocess_text(newText)\n",
        "            testCorpus.append(newText)\n",
        "            if len(testCorpus) == num_texts:\n",
        "                break"
      ]
    },
    {
      "cell_type": "code",
      "execution_count": 22,
      "id": "45188a40",
      "metadata": {
        "id": "45188a40"
      },
      "outputs": [],
      "source": [
        "# Converting to wordEmbeddings\n",
        "# Load the tokenizer from the saved file\n",
        "with open('tokenizer.pickle', 'rb') as handle:\n",
        "    tokenizer = pickle.load(handle)\n",
        "input_sequences = tokenizer.texts_to_sequences(testCorpus)\n",
        "padded_sequences = tf.keras.preprocessing.sequence.pad_sequences(input_sequences, maxlen=MAX_SEQUENCE_LENGTH)"
      ]
    },
    {
      "cell_type": "markdown",
      "id": "c1006494",
      "metadata": {
        "id": "c1006494"
      },
      "source": [
        "## MySQL Operations"
      ]
    },
    {
      "cell_type": "code",
      "execution_count": null,
      "id": "c4e250a8",
      "metadata": {
        "id": "c4e250a8"
      },
      "outputs": [],
      "source": [
        "def embeddings_dict(testCorpus, padded_sequences, dim=100):\n",
        "    for i in range(len(padded_sequences)):\n",
        "        yield (str(testCorpus[i]), padded_sequences[i])"
      ]
    },
    {
      "cell_type": "code",
      "execution_count": null,
      "id": "dce628a9",
      "metadata": {
        "id": "dce628a9"
      },
      "outputs": [],
      "source": [
        "import io\n",
        "def adapt_array(array):\n",
        "    out = io.BytesIO()\n",
        "    np.save(out, array)\n",
        "    out.seek(0)\n",
        "    return out.read()\n",
        "\n",
        "def convert_array(blob):\n",
        "    out = io.BytesIO(blob)\n",
        "    out.seek(0)\n",
        "\n",
        "    return np.load(out)"
      ]
    },
    {
      "cell_type": "code",
      "execution_count": null,
      "id": "58d1b622",
      "metadata": {
        "id": "58d1b622"
      },
      "outputs": [],
      "source": [
        "connection = mysql.connector.connect(\n",
        "    user='root',\n",
        "    password='bbqsauce',\n",
        "    host='localhost',\n",
        "    port=3306,\n",
        "    database='CNNTest'\n",
        ")\n",
        "\n",
        "cursor = connection.cursor()\n",
        "cursor.execute('CREATE TABLE IF NOT EXISTS `word_embeddings` (`id` INT NOT NULL PRIMARY KEY AUTO_INCREMENT, `hash` INT NOT NULL, `sentence` TEXT, `embedding` BLOB, `timestamp` DATETIME);')\n",
        "connection.commit()"
      ]
    },
    {
      "cell_type": "markdown",
      "id": "74d81af0",
      "metadata": {
        "id": "74d81af0"
      },
      "source": [
        "### Inserting into database"
      ]
    },
    {
      "cell_type": "code",
      "execution_count": null,
      "id": "3152b0db",
      "metadata": {
        "id": "3152b0db"
      },
      "outputs": [],
      "source": [
        "from datetime import datetime\n",
        "import random\n",
        "uniqueId=random.randint(10000, 99999)\n",
        "timestamp = datetime.now().strftime('%Y-%m-%d %H:%M:%S')\n",
        "for key, emb in embeddings_dict(testCorpus, padded_sequences, 100):\n",
        "    arr = adapt_array(emb)\n",
        "    cursor.execute('INSERT INTO `word_embeddings` (`hash`, `sentence`, `embedding`, `timestamp`) VALUES (%s, %s, %s, %s);', (uniqueId, key, arr, timestamp))\n",
        "    connection.commit()"
      ]
    },
    {
      "cell_type": "markdown",
      "id": "6feb701e",
      "metadata": {
        "id": "6feb701e"
      },
      "source": [
        "### Retrieving from DB"
      ]
    },
    {
      "cell_type": "code",
      "execution_count": null,
      "id": "1f3bf043",
      "metadata": {
        "id": "1f3bf043"
      },
      "outputs": [],
      "source": [
        "cursor.execute('SELECT `sentence`, `embedding` FROM `word_embeddings` WHERE `hash` = %s;', (uniqueId,))\n",
        "results = cursor.fetchall()\n",
        "embeddings_dict = {}\n",
        "padded_sequences = []\n",
        "\n",
        "for row in results:\n",
        "    sentence = row[0]\n",
        "    blob_data = row[1]\n",
        "    embedding = convert_array(blob_data)\n",
        "\n",
        "    embeddings_dict[sentence] = embedding\n",
        "    padded_sequences.append(embedding)\n",
        "\n",
        "padded_sequences = np.array(padded_sequences)"
      ]
    },
    {
      "cell_type": "code",
      "execution_count": 23,
      "id": "f9ab66aa",
      "metadata": {
        "colab": {
          "base_uri": "https://localhost:8080/",
          "height": 524
        },
        "id": "f9ab66aa",
        "outputId": "695b1085-f608-4256-b8b6-0aa37aaae6fe"
      },
      "outputs": [
        {
          "output_type": "stream",
          "name": "stdout",
          "text": [
            "50\n",
            "2/2 [==============================] - 0s 11ms/step\n",
            "{'Hateful': 17, 'Non-Hateful': 17, 'Neutral': 16}\n"
          ]
        },
        {
          "output_type": "display_data",
          "data": {
            "text/plain": [
              "<Figure size 640x480 with 1 Axes>"
            ],
            "image/png": "[encoded data removed]"
          },
          "metadata": {}
        }
      ],
      "source": [
        "MAX_SEQUENCE_LENGTH = 100\n",
        "class_labels = ['Hateful', 'Non-Hateful', 'Neutral']\n",
        "print(len(testCorpus))\n",
        "\n",
        "# Load the model\n",
        "loaded_model = tf.keras.models.load_model('savedModels/CNN_Model')\n",
        "\n",
        "# Make predictions on the padded sequences\n",
        "predictions = loaded_model.predict(padded_sequences)\n",
        "predicted_classes = np.argmax(predictions, axis=1)\n",
        "\n",
        "# Count the predictions for each class\n",
        "prediction_summary = {label: 0 for label in class_labels}\n",
        "for predicted_class in predicted_classes:\n",
        "    predicted_label = class_labels[predicted_class]\n",
        "    prediction_summary[predicted_label] += 1\n",
        "\n",
        "print(prediction_summary)\n",
        "# Prepare data for bar chart\n",
        "labels = list(prediction_summary.keys())\n",
        "values = list(prediction_summary.values())\n",
        "\n",
        "# Plot the bar chart\n",
        "plt.bar(labels, values)\n",
        "plt.xlabel('Predicted Class')\n",
        "plt.ylabel('Count')\n",
        "plt.title('Prediction Summary')\n",
        "for i, v in enumerate(values):\n",
        "    plt.text(i, v, str(v), ha='center', va='bottom')\n",
        "plt.show()\n"
      ]
    },
    {
      "cell_type": "markdown",
      "id": "784da2e7",
      "metadata": {
        "id": "784da2e7"
      },
      "source": [
        "## Establishing connection with MongoDB"
      ]
    },
    {
      "cell_type": "code",
      "execution_count": null,
      "id": "781c760f",
      "metadata": {
        "id": "781c760f",
        "outputId": "e9adb267-316a-4da6-f4af-97aa0beb8f33"
      },
      "outputs": [
        {
          "name": "stdout",
          "output_type": "stream",
          "text": [
            "No of elements:755\n"
          ]
        }
      ],
      "source": [
        "#Establishing Connection\n",
        "try:\n",
        "    client= MongoClient(\"mongodb://localhost:27017\")\n",
        "    #Get Database\n",
        "    db=client.get_database('Vector_Data')\n",
        "    #Get C ollection and preprocessed_data is table name inside db\n",
        "    collection=db.preprocessed_data\n",
        "    # initial number of elements\n",
        "    print('No of elements:{}'.format( collection.count_documents({})))\n",
        "except:\n",
        "    print('Connection Failed')"
      ]
    },
    {
      "cell_type": "markdown",
      "id": "93c031ae",
      "metadata": {
        "id": "93c031ae"
      },
      "source": [
        "#### Inserting elements in MongoDB"
      ]
    },
    {
      "cell_type": "code",
      "execution_count": null,
      "id": "7f6abad5",
      "metadata": {
        "id": "7f6abad5",
        "outputId": "8174ecc0-a757-4f8c-8338-e2e5971fb3b6"
      },
      "outputs": [
        {
          "data": {
            "text/plain": [
              "50"
            ]
          },
          "execution_count": 12,
          "metadata": {},
          "output_type": "execute_result"
        }
      ],
      "source": [
        "from datetime import datetime\n",
        "import random\n",
        "uniqueId=random.randint(10000, 99999)\n",
        "# inserting all elements in preprocessed_data\n",
        "for row in padded_sequences:\n",
        "    document = {str(uniqueId):row.tolist()}\n",
        "    collection.insert_one(document)\n",
        "# insertion check\n",
        "collection.count_documents({})"
      ]
    },
    {
      "cell_type": "markdown",
      "id": "6b46edf7",
      "metadata": {
        "id": "6b46edf7"
      },
      "source": [
        "#### Retrieving Data from MongoDB"
      ]
    },
    {
      "cell_type": "code",
      "execution_count": null,
      "id": "98080f5d",
      "metadata": {
        "id": "98080f5d",
        "outputId": "4417dcfc-a756-4e54-e5ad-5e38844019cf"
      },
      "outputs": [
        {
          "data": {
            "text/plain": [
              "70"
            ]
          },
          "execution_count": 9,
          "metadata": {},
          "output_type": "execute_result"
        }
      ],
      "source": [
        "vector_data = []\n",
        "uniqueId=\"eb0fa73b-1474-11ee-af40-c39db335b146\"\n",
        "alldocuments = collection.find({str(uniqueId): {'$exists': True}})\n",
        "for document in alldocuments:\n",
        "    vector_data.append(document[str(uniqueId)])\n",
        "padded_sequences2 = np.array(vector_data)\n",
        "len(padded_sequences2)"
      ]
    },
    {
      "cell_type": "code",
      "execution_count": null,
      "id": "7b5d0754",
      "metadata": {
        "id": "7b5d0754",
        "outputId": "f9d864ee-c830-43a5-d939-62916fe37caf"
      },
      "outputs": [
        {
          "name": "stdout",
          "output_type": "stream",
          "text": [
            "3/3 [==============================] - 0s 4ms/step\n",
            "{'Hateful': 2, 'Non-Hateful': 12, 'Neutral': 56}\n"
          ]
        },
        {
          "data": {
            "image/png": "[encoded data removed]",
            "text/plain": [
              "<Figure size 640x480 with 1 Axes>"
            ]
          },
          "metadata": {},
          "output_type": "display_data"
        }
      ],
      "source": [
        "MAX_SEQUENCE_LENGTH = 100\n",
        "class_labels = ['Hateful', 'Non-Hateful', 'Neutral']\n",
        "#print(len(testCorpus))\n",
        "\n",
        "# Load the model\n",
        "loaded_model = tf.keras.models.load_model('savedModels/CNN_Model')\n",
        "\n",
        "# Make predictions on the padded sequences\n",
        "predictions = loaded_model.predict(padded_sequences2)\n",
        "predicted_classes = np.argmax(predictions, axis=1)\n",
        "\n",
        "# Count the predictions for each class\n",
        "prediction_summary = {label: 0 for label in class_labels}\n",
        "for predicted_class in predicted_classes:\n",
        "    predicted_label = class_labels[predicted_class]\n",
        "    prediction_summary[predicted_label] += 1\n",
        "\n",
        "print(prediction_summary)\n",
        "# Prepare data for bar chart\n",
        "labels = list(prediction_summary.keys())\n",
        "values = list(prediction_summary.values())\n",
        "\n",
        "# Plot the bar chart\n",
        "plt.bar(labels, values)\n",
        "plt.xlabel('Predicted Class')\n",
        "plt.ylabel('Count')\n",
        "plt.title('Prediction Summary')\n",
        "for i, v in enumerate(values):\n",
        "    plt.text(i, v, str(v), ha='center', va='bottom')\n",
        "plt.show()\n"
      ]
    },
    {
      "cell_type": "code",
      "execution_count": null,
      "id": "54223199",
      "metadata": {
        "id": "54223199",
        "outputId": "4fd13f9d-b040-494e-b8e3-d70e20c90820"
      },
      "outputs": [
        {
          "data": {
            "text/plain": [
              "numpy.ndarray"
            ]
          },
          "execution_count": 20,
          "metadata": {},
          "output_type": "execute_result"
        }
      ],
      "source": [
        "type(padded_sequences)"
      ]
    },
    {
      "cell_type": "code",
      "execution_count": null,
      "id": "30e874ac",
      "metadata": {
        "id": "30e874ac",
        "outputId": "f1c65f4c-7471-4e2a-fc0a-fb1a3664e879"
      },
      "outputs": [
        {
          "data": {
            "text/plain": [
              "numpy.ndarray"
            ]
          },
          "execution_count": 21,
          "metadata": {},
          "output_type": "execute_result"
        }
      ],
      "source": [
        "type(padded_sequences2)"
      ]
    },
    {
      "cell_type": "code",
      "execution_count": null,
      "id": "034a071d",
      "metadata": {
        "id": "034a071d"
      },
      "outputs": [],
      "source": [
        "padded_sequences= padded_sequences.reshape(padded_sequences.shape[0], padded_sequences.shape[1], 1)"
      ]
    },
    {
      "cell_type": "code",
      "execution_count": null,
      "id": "462b5605",
      "metadata": {
        "id": "462b5605",
        "outputId": "9ba02c90-d90a-4a24-c4ac-2b7ca6bbe605"
      },
      "outputs": [
        {
          "data": {
            "text/plain": [
              "array([[[   0],\n",
              "        [   0],\n",
              "        [   0],\n",
              "        ...,\n",
              "        [  30],\n",
              "        [ 370],\n",
              "        [1333]],\n",
              "\n",
              "       [[   0],\n",
              "        [   0],\n",
              "        [   0],\n",
              "        ...,\n",
              "        [ 220],\n",
              "        [ 220],\n",
              "        [ 220]],\n",
              "\n",
              "       [[   0],\n",
              "        [   0],\n",
              "        [   0],\n",
              "        ...,\n",
              "        [1062],\n",
              "        [ 244],\n",
              "        [   2]],\n",
              "\n",
              "       ...,\n",
              "\n",
              "       [[   0],\n",
              "        [   0],\n",
              "        [   0],\n",
              "        ...,\n",
              "        [   0],\n",
              "        [ 157],\n",
              "        [   2]],\n",
              "\n",
              "       [[   0],\n",
              "        [   0],\n",
              "        [   0],\n",
              "        ...,\n",
              "        [ 124],\n",
              "        [  46],\n",
              "        [ 763]],\n",
              "\n",
              "       [[  37],\n",
              "        [1083],\n",
              "        [1258],\n",
              "        ...,\n",
              "        [ 149],\n",
              "        [ 215],\n",
              "        [   1]]])"
            ]
          },
          "execution_count": 24,
          "metadata": {},
          "output_type": "execute_result"
        }
      ],
      "source": [
        "padded_sequences"
      ]
    },
    {
      "cell_type": "code",
      "execution_count": null,
      "id": "4e749e68",
      "metadata": {
        "id": "4e749e68"
      },
      "outputs": [],
      "source": [
        "import pandas as pd\n",
        "testCorpus = pd.Series(testCorpus)"
      ]
    },
    {
      "cell_type": "code",
      "execution_count": null,
      "id": "71def012",
      "metadata": {
        "id": "71def012"
      },
      "outputs": [],
      "source": [
        "load_options = tf.saved_model.LoadOptions(experimental_io_device='/job:localhost')"
      ]
    },
    {
      "cell_type": "code",
      "execution_count": null,
      "id": "c6b6e4f0",
      "metadata": {
        "id": "c6b6e4f0",
        "outputId": "25536cf1-9a8f-4111-fd59-cfb88b58d0d3"
      },
      "outputs": [
        {
          "ename": "FileNotFoundError",
          "evalue": "Op type not registered 'CaseFoldUTF8' in binary running on JOSEMON_BABY. Make sure the Op and Kernel are registered in the binary running in this process. Note that if you are loading a saved graph which used ops from tf.contrib, accessing (e.g.) `tf.contrib.resampler` should be done before importing the graph, as contrib ops are lazily registered when the module is first accessed.\n You may be trying to load on a different device from the computational device. Consider setting the `experimental_io_device` option in `tf.saved_model.LoadOptions` to the io_device such as '/job:localhost'.",
          "output_type": "error",
          "traceback": [
            "\u001b[1;31m---------------------------------------------------------------------------\u001b[0m",
            "\u001b[1;31mFileNotFoundError\u001b[0m                         Traceback (most recent call last)",
            "Input \u001b[1;32mIn [11]\u001b[0m, in \u001b[0;36m<cell line: 1>\u001b[1;34m()\u001b[0m\n\u001b[1;32m----> 1\u001b[0m loaded_model \u001b[38;5;241m=\u001b[39m \u001b[43mtf\u001b[49m\u001b[38;5;241;43m.\u001b[39;49m\u001b[43mkeras\u001b[49m\u001b[38;5;241;43m.\u001b[39;49m\u001b[43mmodels\u001b[49m\u001b[38;5;241;43m.\u001b[39;49m\u001b[43mload_model\u001b[49m\u001b[43m(\u001b[49m\u001b[38;5;124;43m'\u001b[39;49m\u001b[38;5;124;43msavedModels/TransformerSentiment\u001b[39;49m\u001b[38;5;124;43m'\u001b[39;49m\u001b[43m,\u001b[49m\u001b[43m \u001b[49m\u001b[43moptions\u001b[49m\u001b[38;5;241;43m=\u001b[39;49m\u001b[43mload_options\u001b[49m\u001b[43m)\u001b[49m\n",
            "File \u001b[1;32m~\\AppData\\Local\\Programs\\Python\\Python310\\lib\\site-packages\\keras\\utils\\traceback_utils.py:70\u001b[0m, in \u001b[0;36mfilter_traceback.<locals>.error_handler\u001b[1;34m(*args, **kwargs)\u001b[0m\n\u001b[0;32m     67\u001b[0m     filtered_tb \u001b[38;5;241m=\u001b[39m _process_traceback_frames(e\u001b[38;5;241m.\u001b[39m__traceback__)\n\u001b[0;32m     68\u001b[0m     \u001b[38;5;66;03m# To get the full stack trace, call:\u001b[39;00m\n\u001b[0;32m     69\u001b[0m     \u001b[38;5;66;03m# `tf.debugging.disable_traceback_filtering()`\u001b[39;00m\n\u001b[1;32m---> 70\u001b[0m     \u001b[38;5;28;01mraise\u001b[39;00m e\u001b[38;5;241m.\u001b[39mwith_traceback(filtered_tb) \u001b[38;5;28;01mfrom\u001b[39;00m \u001b[38;5;28mNone\u001b[39m\n\u001b[0;32m     71\u001b[0m \u001b[38;5;28;01mfinally\u001b[39;00m:\n\u001b[0;32m     72\u001b[0m     \u001b[38;5;28;01mdel\u001b[39;00m filtered_tb\n",
            "File \u001b[1;32m~\\AppData\\Local\\Programs\\Python\\Python310\\lib\\site-packages\\tensorflow\\python\\saved_model\\load.py:961\u001b[0m, in \u001b[0;36mload_partial\u001b[1;34m(export_dir, filters, tags, options)\u001b[0m\n\u001b[0;32m    958\u001b[0m   loader \u001b[38;5;241m=\u001b[39m Loader(object_graph_proto, saved_model_proto, export_dir,\n\u001b[0;32m    959\u001b[0m                   ckpt_options, options, filters)\n\u001b[0;32m    960\u001b[0m \u001b[38;5;28;01mexcept\u001b[39;00m errors\u001b[38;5;241m.\u001b[39mNotFoundError \u001b[38;5;28;01mas\u001b[39;00m err:\n\u001b[1;32m--> 961\u001b[0m   \u001b[38;5;28;01mraise\u001b[39;00m \u001b[38;5;167;01mFileNotFoundError\u001b[39;00m(\n\u001b[0;32m    962\u001b[0m       \u001b[38;5;28mstr\u001b[39m(err) \u001b[38;5;241m+\u001b[39m \u001b[38;5;124m\"\u001b[39m\u001b[38;5;130;01m\\n\u001b[39;00m\u001b[38;5;124m You may be trying to load on a different device \u001b[39m\u001b[38;5;124m\"\u001b[39m\n\u001b[0;32m    963\u001b[0m       \u001b[38;5;124m\"\u001b[39m\u001b[38;5;124mfrom the computational device. Consider setting the \u001b[39m\u001b[38;5;124m\"\u001b[39m\n\u001b[0;32m    964\u001b[0m       \u001b[38;5;124m\"\u001b[39m\u001b[38;5;124m`experimental_io_device` option in `tf.saved_model.LoadOptions` \u001b[39m\u001b[38;5;124m\"\u001b[39m\n\u001b[0;32m    965\u001b[0m       \u001b[38;5;124m\"\u001b[39m\u001b[38;5;124mto the io_device such as \u001b[39m\u001b[38;5;124m'\u001b[39m\u001b[38;5;124m/job:localhost\u001b[39m\u001b[38;5;124m'\u001b[39m\u001b[38;5;124m.\u001b[39m\u001b[38;5;124m\"\u001b[39m)\n\u001b[0;32m    966\u001b[0m root \u001b[38;5;241m=\u001b[39m loader\u001b[38;5;241m.\u001b[39mget(\u001b[38;5;241m0\u001b[39m)\n\u001b[0;32m    967\u001b[0m root\u001b[38;5;241m.\u001b[39mgraph_debug_info \u001b[38;5;241m=\u001b[39m loader\u001b[38;5;241m.\u001b[39madjust_debug_info_func_names(debug_info)\n",
            "\u001b[1;31mFileNotFoundError\u001b[0m: Op type not registered 'CaseFoldUTF8' in binary running on JOSEMON_BABY. Make sure the Op and Kernel are registered in the binary running in this process. Note that if you are loading a saved graph which used ops from tf.contrib, accessing (e.g.) `tf.contrib.resampler` should be done before importing the graph, as contrib ops are lazily registered when the module is first accessed.\n You may be trying to load on a different device from the computational device. Consider setting the `experimental_io_device` option in `tf.saved_model.LoadOptions` to the io_device such as '/job:localhost'."
          ]
        }
      ],
      "source": [
        "loaded_model = tf.keras.models.load_model('savedModels/TransformerSentiment')"
      ]
    },
    {
      "cell_type": "code",
      "execution_count": null,
      "id": "af5aba44",
      "metadata": {
        "id": "af5aba44",
        "outputId": "215d6077-95aa-4fc3-b4cc-71ee8a09be32"
      },
      "outputs": [
        {
          "data": {
            "text/plain": [
              "'2.11.0'"
            ]
          },
          "execution_count": 12,
          "metadata": {},
          "output_type": "execute_result"
        }
      ],
      "source": [
        "tf.__version__"
      ]
    },
    {
      "cell_type": "code",
      "execution_count": null,
      "id": "8321ff0d",
      "metadata": {
        "id": "8321ff0d"
      },
      "outputs": [],
      "source": []
    }
  ],
  "metadata": {
    "kernelspec": {
      "display_name": "Python 3 (ipykernel)",
      "language": "python",
      "name": "python3"
    },
    "language_info": {
      "codemirror_mode": {
        "name": "ipython",
        "version": 3
      },
      "file_extension": ".py",
      "mimetype": "text/x-python",
      "name": "python",
      "nbconvert_exporter": "python",
      "pygments_lexer": "ipython3",
      "version": "3.10.6"
    },
    "colab": {
      "provenance": []
    }
  },
  "nbformat": 4,
  "nbformat_minor": 5
}